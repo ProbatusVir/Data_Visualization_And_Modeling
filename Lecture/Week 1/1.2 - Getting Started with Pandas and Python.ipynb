{
 "cells": [
  {
   "cell_type": "markdown",
   "metadata": {},
   "source": [
    "# Some Python Basics\n",
    "\n",
    "## Variables"
   ]
  },
  {
   "cell_type": "markdown",
   "metadata": {},
   "source": [
    "Variables in Python are dynamically typed, meaning that the type is inferred from assignment, which is often referred to as duck typing (if it acts like a duck and looks like a duck, its a duck).  \n"
   ]
  },
  {
   "cell_type": "code",
   "metadata": {
    "ExecuteTime": {
     "end_time": "2025-07-02T13:43:40.441937Z",
     "start_time": "2025-07-02T13:43:40.438386Z"
    }
   },
   "source": [],
   "outputs": [],
   "execution_count": null
  },
  {
   "cell_type": "code",
   "metadata": {
    "tags": [],
    "ExecuteTime": {
     "end_time": "2025-07-02T13:43:40.456283Z",
     "start_time": "2025-07-02T13:43:40.453143Z"
    }
   },
   "source": [],
   "outputs": [],
   "execution_count": null
  },
  {
   "cell_type": "code",
   "metadata": {
    "tags": [],
    "ExecuteTime": {
     "end_time": "2025-07-02T13:43:40.520001Z",
     "start_time": "2025-07-02T13:43:40.518194Z"
    }
   },
   "source": [],
   "outputs": [],
   "execution_count": null
  },
  {
   "cell_type": "code",
   "metadata": {
    "tags": [],
    "ExecuteTime": {
     "end_time": "2025-07-02T13:43:40.532883Z",
     "start_time": "2025-07-02T13:43:40.530076Z"
    }
   },
   "source": [],
   "outputs": [],
   "execution_count": null
  },
  {
   "cell_type": "code",
   "metadata": {
    "tags": [],
    "ExecuteTime": {
     "end_time": "2025-07-02T13:43:40.570341Z",
     "start_time": "2025-07-02T13:43:40.568252Z"
    }
   },
   "source": [],
   "outputs": [],
   "execution_count": null
  },
  {
   "cell_type": "markdown",
   "metadata": {},
   "source": [
    "To get more inforation on a variables type, you can use either the type() function."
   ]
  },
  {
   "cell_type": "code",
   "metadata": {
    "ExecuteTime": {
     "end_time": "2025-07-02T13:43:40.592644Z",
     "start_time": "2025-07-02T13:43:40.589666Z"
    }
   },
   "source": [],
   "outputs": [],
   "execution_count": null
  },
  {
   "cell_type": "markdown",
   "metadata": {},
   "source": [
    "We can also get input from users to fill our variables."
   ]
  },
  {
   "cell_type": "code",
   "metadata": {
    "tags": [],
    "ExecuteTime": {
     "end_time": "2025-07-02T13:43:40.603778Z",
     "start_time": "2025-07-02T13:43:40.600672Z"
    }
   },
   "source": [
    "\n",
    "\n"
   ],
   "outputs": [],
   "execution_count": 37
  },
  {
   "cell_type": "code",
   "metadata": {
    "tags": [],
    "ExecuteTime": {
     "end_time": "2025-07-02T13:43:40.633807Z",
     "start_time": "2025-07-02T13:43:40.631613Z"
    }
   },
   "source": [],
   "outputs": [],
   "execution_count": null
  },
  {
   "cell_type": "markdown",
   "metadata": {},
   "source": [
    "## Booleans"
   ]
  },
  {
   "cell_type": "markdown",
   "metadata": {},
   "source": [
    "Booleans can be handy when working with dataframes, as we will see later.  You can also add them and they are interpreted as False = 0 and True = 1"
   ]
  },
  {
   "cell_type": "code",
   "metadata": {
    "tags": [],
    "ExecuteTime": {
     "end_time": "2025-07-02T13:43:40.646787Z",
     "start_time": "2025-07-02T13:43:40.643871Z"
    }
   },
   "source": [],
   "outputs": [],
   "execution_count": null
  },
  {
   "cell_type": "markdown",
   "metadata": {},
   "source": [
    "## Strings\n",
    "Strings in Python are created with ' or \" and are immutable, if changes need to be made to a string a new one is returned.  The default encoding for strings in Python is Unicode UTF-8, this means that they are automatically compatible with different languages.  Python strings work similar to STL strings since they are classes with support functions built in, however in Python the amount of functionality is much larger."
   ]
  },
  {
   "cell_type": "code",
   "metadata": {
    "ExecuteTime": {
     "end_time": "2025-07-02T13:43:40.658510Z",
     "start_time": "2025-07-02T13:43:40.656594Z"
    }
   },
   "source": [
    "\n"
   ],
   "outputs": [],
   "execution_count": 37
  },
  {
   "cell_type": "markdown",
   "metadata": {},
   "source": [
    "## Lists\n",
    "In c++ choosing which container to use is actually very important (list, queue, stack, vector, array?), in Python this choice is simplified into a single container that has the functionality of everything.  To create a list use the square brackets [].  Notice that the types don't have to match, we don't care about variable types."
   ]
  },
  {
   "cell_type": "code",
   "metadata": {
    "ExecuteTime": {
     "end_time": "2025-07-02T13:43:40.688181Z",
     "start_time": "2025-07-02T13:43:40.685398Z"
    }
   },
   "source": [],
   "outputs": [],
   "execution_count": null
  },
  {
   "cell_type": "markdown",
   "metadata": {},
   "source": [
    "# Pandas\n",
    "In the last lesson, we got to see Pandas in action by using it to make some visualizations of the data science salaries data.  Let's take some time to explore some of the cool features of Python and Pandas.\n",
    "\n",
    "## The History of Pandas\n",
    "\n",
    "Origins:\n",
    "\n",
    "* 2008: The Pandas project was started by Wes McKinney when he was working at AQR Capital Management. The main motivation was to have a flexible tool to perform quantitative analysis on financial data. The name \"pandas\" is derived from the term \"panel data,\" a common term for data that involves observations over time.\n",
    "\n",
    "Early Development:\n",
    "\n",
    "* 2009: Wes McKinney released the first public version of pandas. The initial versions laid the foundation with data structures like Series and DataFrame, which have since become staples for data manipulation in Python.\n",
    "\n",
    "Increasing Adoption:\n",
    "\n",
    "* 2010s: As data science and Python grew in popularity during the 2010s, so did pandas. It quickly became one of the cornerstones of the scientific stack in Python alongside libraries like NumPy, SciPy, and Matplotlib.\n",
    "The library received significant contributions from many developers worldwide, enhancing its capabilities and making it more robust.\n",
    "\n",
    "Books and Documentation:\n",
    "\n",
    "* 2012: Wes McKinney published \"Python for Data Analysis,\" which prominently features pandas and its application in data analysis. This book played a crucial role in introducing many individuals to pandas and data analysis in Python.\n",
    "\n",
    "\n",
    "Pandas is often seen as a gateway to data science in Python. Its simple yet powerful interface makes it a favorite for beginners and professionals alike.\n",
    "With the rise of big data tools like Apache Spark, Dask, and Vaex, pandas also integrates with these tools, allowing users to scale their analyses when necessary.\n",
    "\n",
    "## DataFrames and Series\n",
    "\n",
    "The DataFrame is the primary structure we will be using for this class.  It is an associative, two dimensional data structure. Imagine a spreadsheet page,  SQL table, or flat file.  The series object is a one dimensional data structure that represents a single column of data.\n",
    "\n",
    "We can manually create a DataFrame from dictionaries, lists, series, and much else.  We can also add new features to a DataFrame, or even combine multiple DataFrames.  If our data is provided to us we can read or write to a variety of different formats: CSV, Excel, SQL, JSON, URL, clipboard, etc.\n",
    "\n",
    "A series object can be thought of as single column of a DataFrame."
   ]
  },
  {
   "cell_type": "markdown",
   "metadata": {},
   "source": [
    "## Common useful Pandas methods\n",
    "\n",
    "### DataFrame Creation and Input/Output\n",
    "- `pd.DataFrame()`: Create a DataFrame.\n",
    "- `pd.read_csv()`: Read a CSV file into a DataFrame.\n",
    "- `pd.read_excel()`: Read an Excel file into a DataFrame.\n",
    "- `df.to_csv()`: Write a DataFrame to a CSV file.\n",
    "- `df.to_excel()`: Write a DataFrame to an Excel file.\n",
    "\n",
    "### Viewing and Inspecting Data\n",
    "- `df.head()`: View the first few rows of the DataFrame.\n",
    "- `df.tail()`: View the last few rows of the DataFrame.\n",
    "- `df.info()`: Get a concise summary of the DataFrame.\n",
    "- `df.describe()`: Generate descriptive statistics.\n",
    "- `df.shape`: Get the dimensions of the DataFrame.\n",
    "- `df.columns`: Get the column labels.\n",
    "- `df.index`: Get the row labels.\n",
    "\n",
    "### Selection and Filtering\n",
    "- `df.loc[]`: Access a group of rows and columns by labels.\n",
    "- `df.iloc[]`: Access a group of rows and columns by integer position.\n",
    "- `df[df['column'] > value]`: Filter rows based on column values.\n",
    "- `df.query()`: Query the DataFrame with a boolean expression.\n",
    "\n",
    "### Grouping and Aggregation\n",
    "- `df.groupby()`: Group data by one or more columns.\n",
    "- `df.agg()`: Aggregate using one or more operations over the specified axis.\n",
    "- `df.size()`: Get the size of the DataFrame.\n",
    "- `df.sum()`: Compute the sum of values.\n",
    "- `df.mean()`: Compute the mean of values.\n",
    "- `df.median()`: Compute the median of values.\n",
    "- `df.min()`: Compute the minimum of values.\n",
    "- `df.max()`: Compute the maximum of values.\n",
    "- `df.count()`: Count the number of non-NA/null observations.\n",
    "\n",
    "### Data Cleaning and Preparation\n",
    "- `df.drop()`: Drop specified labels from rows or columns.\n",
    "- `df.dropna()`: Remove missing values.\n",
    "- `df.fillna()`: Fill missing values.\n",
    "- `df.replace()`: Replace values.\n",
    "- `df.rename()`: Rename labels.\n",
    "- `df.astype()`: Cast a pandas object to a specified dtype.\n",
    "- `df.sort_values()`: Sort by the values along either axis.\n",
    "- `df.sort_index()`: Sort by the index.\n",
    "- `df.set_index()`: Set the DataFrame index using existing columns.\n",
    "- `df.reset_index()`: Reset the index, or a level of it.\n",
    "\n",
    "### Merging and Joining\n",
    "- `pd.merge()`: Merge DataFrame objects by performing a database-style join.\n",
    "- `df.join()`: Join columns with other DataFrame.\n",
    "- `pd.concat()`: Concatenate pandas objects along a particular axis.\n",
    "\n",
    "### Date and Time\n",
    "- `pd.to_datetime()`: Convert argument to datetime.\n",
    "- `df['column'].dt`: Accessor object for datetime-like properties.\n",
    "\n",
    "### String Methods\n",
    "- `df['column'].str`: Accessor object for string methods.\n",
    "- `df['column'].str.contains()`: Test if pattern or regex is contained within a string of a Series or Index.\n",
    "- `df['column'].str.replace()`: Replace occurrences of pattern/regex/string with some other string.\n",
    "\n",
    "### Statistical Functions\n",
    "- `df.corr()`: Compute pairwise correlation of columns.\n",
    "- `df.cov()`: Compute pairwise covariance of columns.\n",
    "- `df.var()`: Compute variance of columns.\n",
    "- `df.std()`: Compute standard deviation of columns.\n",
    "- `df.mad()`: Compute mean absolute deviation of columns.\n",
    "- `df.kurt()`: Compute kurtosis of columns.\n",
    "- `df.skew()`: Compute skewness of columns.\n",
    "\n",
    "### Visualization\n",
    "- `df.plot()`: Make plots of DataFrame using matplotlib.\n",
    "\n",
    "### Miscellaneous\n",
    "- `df.pivot()`: Produce pivot table based on 3 columns of this DataFrame.\n",
    "- `df.pivot_table()`: Create a spreadsheet-style pivot table as a DataFrame.\n",
    "- `df.apply()`: Apply a function along an axis of the DataFrame.\n",
    "- `df.applymap()`: Apply a function to a DataFrame elementwise.\n"
   ]
  },
  {
   "cell_type": "markdown",
   "metadata": {
    "tags": []
   },
   "source": [
    "## Data wrangling"
   ]
  },
  {
   "cell_type": "markdown",
   "metadata": {},
   "source": [
    "Let's explore the cybersecurity threat data using Pandas methods."
   ]
  },
  {
   "cell_type": "code",
   "metadata": {
    "ExecuteTime": {
     "end_time": "2025-07-02T13:43:40.714814Z",
     "start_time": "2025-07-02T13:43:40.703437Z"
    }
   },
   "source": [
    "import pandas as pd\n",
    "df = pd.read_csv(\"assets/Cybersecurity.csv\")\n",
    "df.tail()"
   ],
   "outputs": [
    {
     "data": {
      "text/plain": [
       "      Country  Year    Attack Type     Target Industry  \\\n",
       "2995       UK  2021     Ransomware          Government   \n",
       "2996   Brazil  2023  SQL Injection  Telecommunications   \n",
       "2997   Brazil  2017  SQL Injection                  IT   \n",
       "2998       UK  2022  SQL Injection                  IT   \n",
       "2999  Germany  2021  SQL Injection              Retail   \n",
       "\n",
       "      Financial Loss (in Million $)  Number of Affected Users Attack Source  \\\n",
       "2995                          51.42                    190694       Unknown   \n",
       "2996                          30.28                    892843  Hacker Group   \n",
       "2997                          32.97                    734737  Nation-state   \n",
       "2998                          32.17                    379954       Insider   \n",
       "2999                          48.20                    480984       Unknown   \n",
       "\n",
       "     Security Vulnerability Type Defense Mechanism Used  \\\n",
       "2995          Social Engineering               Firewall   \n",
       "2996                    Zero-day                    VPN   \n",
       "2997              Weak Passwords     AI-based Detection   \n",
       "2998          Unpatched Software               Firewall   \n",
       "2999                    Zero-day                    VPN   \n",
       "\n",
       "      Incident Resolution Time (in Hours)  \n",
       "2995                                   52  \n",
       "2996                                   26  \n",
       "2997                                   30  \n",
       "2998                                    9  \n",
       "2999                                   64  "
      ],
      "text/html": [
       "<div>\n",
       "<style scoped>\n",
       "    .dataframe tbody tr th:only-of-type {\n",
       "        vertical-align: middle;\n",
       "    }\n",
       "\n",
       "    .dataframe tbody tr th {\n",
       "        vertical-align: top;\n",
       "    }\n",
       "\n",
       "    .dataframe thead th {\n",
       "        text-align: right;\n",
       "    }\n",
       "</style>\n",
       "<table border=\"1\" class=\"dataframe\">\n",
       "  <thead>\n",
       "    <tr style=\"text-align: right;\">\n",
       "      <th></th>\n",
       "      <th>Country</th>\n",
       "      <th>Year</th>\n",
       "      <th>Attack Type</th>\n",
       "      <th>Target Industry</th>\n",
       "      <th>Financial Loss (in Million $)</th>\n",
       "      <th>Number of Affected Users</th>\n",
       "      <th>Attack Source</th>\n",
       "      <th>Security Vulnerability Type</th>\n",
       "      <th>Defense Mechanism Used</th>\n",
       "      <th>Incident Resolution Time (in Hours)</th>\n",
       "    </tr>\n",
       "  </thead>\n",
       "  <tbody>\n",
       "    <tr>\n",
       "      <th>2995</th>\n",
       "      <td>UK</td>\n",
       "      <td>2021</td>\n",
       "      <td>Ransomware</td>\n",
       "      <td>Government</td>\n",
       "      <td>51.42</td>\n",
       "      <td>190694</td>\n",
       "      <td>Unknown</td>\n",
       "      <td>Social Engineering</td>\n",
       "      <td>Firewall</td>\n",
       "      <td>52</td>\n",
       "    </tr>\n",
       "    <tr>\n",
       "      <th>2996</th>\n",
       "      <td>Brazil</td>\n",
       "      <td>2023</td>\n",
       "      <td>SQL Injection</td>\n",
       "      <td>Telecommunications</td>\n",
       "      <td>30.28</td>\n",
       "      <td>892843</td>\n",
       "      <td>Hacker Group</td>\n",
       "      <td>Zero-day</td>\n",
       "      <td>VPN</td>\n",
       "      <td>26</td>\n",
       "    </tr>\n",
       "    <tr>\n",
       "      <th>2997</th>\n",
       "      <td>Brazil</td>\n",
       "      <td>2017</td>\n",
       "      <td>SQL Injection</td>\n",
       "      <td>IT</td>\n",
       "      <td>32.97</td>\n",
       "      <td>734737</td>\n",
       "      <td>Nation-state</td>\n",
       "      <td>Weak Passwords</td>\n",
       "      <td>AI-based Detection</td>\n",
       "      <td>30</td>\n",
       "    </tr>\n",
       "    <tr>\n",
       "      <th>2998</th>\n",
       "      <td>UK</td>\n",
       "      <td>2022</td>\n",
       "      <td>SQL Injection</td>\n",
       "      <td>IT</td>\n",
       "      <td>32.17</td>\n",
       "      <td>379954</td>\n",
       "      <td>Insider</td>\n",
       "      <td>Unpatched Software</td>\n",
       "      <td>Firewall</td>\n",
       "      <td>9</td>\n",
       "    </tr>\n",
       "    <tr>\n",
       "      <th>2999</th>\n",
       "      <td>Germany</td>\n",
       "      <td>2021</td>\n",
       "      <td>SQL Injection</td>\n",
       "      <td>Retail</td>\n",
       "      <td>48.20</td>\n",
       "      <td>480984</td>\n",
       "      <td>Unknown</td>\n",
       "      <td>Zero-day</td>\n",
       "      <td>VPN</td>\n",
       "      <td>64</td>\n",
       "    </tr>\n",
       "  </tbody>\n",
       "</table>\n",
       "</div>"
      ]
     },
     "execution_count": 38,
     "metadata": {},
     "output_type": "execute_result"
    }
   ],
   "execution_count": 38
  },
  {
   "cell_type": "code",
   "metadata": {
    "tags": [],
    "ExecuteTime": {
     "end_time": "2025-07-02T13:43:40.754661Z",
     "start_time": "2025-07-02T13:43:40.748598Z"
    }
   },
   "source": "df.shape",
   "outputs": [
    {
     "data": {
      "text/plain": [
       "(3000, 10)"
      ]
     },
     "execution_count": 39,
     "metadata": {},
     "output_type": "execute_result"
    }
   ],
   "execution_count": 39
  },
  {
   "cell_type": "code",
   "metadata": {
    "tags": [],
    "ExecuteTime": {
     "end_time": "2025-07-02T13:43:40.822147Z",
     "start_time": "2025-07-02T13:43:40.815448Z"
    }
   },
   "source": "df.info()",
   "outputs": [
    {
     "name": "stdout",
     "output_type": "stream",
     "text": [
      "<class 'pandas.core.frame.DataFrame'>\n",
      "RangeIndex: 3000 entries, 0 to 2999\n",
      "Data columns (total 10 columns):\n",
      " #   Column                               Non-Null Count  Dtype  \n",
      "---  ------                               --------------  -----  \n",
      " 0   Country                              3000 non-null   object \n",
      " 1   Year                                 3000 non-null   int64  \n",
      " 2   Attack Type                          3000 non-null   object \n",
      " 3   Target Industry                      3000 non-null   object \n",
      " 4   Financial Loss (in Million $)        3000 non-null   float64\n",
      " 5   Number of Affected Users             3000 non-null   int64  \n",
      " 6   Attack Source                        3000 non-null   object \n",
      " 7   Security Vulnerability Type          3000 non-null   object \n",
      " 8   Defense Mechanism Used               3000 non-null   object \n",
      " 9   Incident Resolution Time (in Hours)  3000 non-null   int64  \n",
      "dtypes: float64(1), int64(3), object(6)\n",
      "memory usage: 234.5+ KB\n"
     ]
    }
   ],
   "execution_count": 40
  },
  {
   "cell_type": "code",
   "metadata": {
    "tags": [],
    "ExecuteTime": {
     "end_time": "2025-07-02T13:43:40.878363Z",
     "start_time": "2025-07-02T13:43:40.869206Z"
    }
   },
   "source": "df.describe()",
   "outputs": [
    {
     "data": {
      "text/plain": [
       "              Year  Financial Loss (in Million $)  Number of Affected Users  \\\n",
       "count  3000.000000                    3000.000000               3000.000000   \n",
       "mean   2019.570333                      50.492970             504684.136333   \n",
       "std       2.857932                      28.791415             289944.084972   \n",
       "min    2015.000000                       0.500000                424.000000   \n",
       "25%    2017.000000                      25.757500             255805.250000   \n",
       "50%    2020.000000                      50.795000             504513.000000   \n",
       "75%    2022.000000                      75.630000             758088.500000   \n",
       "max    2024.000000                      99.990000             999635.000000   \n",
       "\n",
       "       Incident Resolution Time (in Hours)  \n",
       "count                          3000.000000  \n",
       "mean                             36.476000  \n",
       "std                              20.570768  \n",
       "min                               1.000000  \n",
       "25%                              19.000000  \n",
       "50%                              37.000000  \n",
       "75%                              55.000000  \n",
       "max                              72.000000  "
      ],
      "text/html": [
       "<div>\n",
       "<style scoped>\n",
       "    .dataframe tbody tr th:only-of-type {\n",
       "        vertical-align: middle;\n",
       "    }\n",
       "\n",
       "    .dataframe tbody tr th {\n",
       "        vertical-align: top;\n",
       "    }\n",
       "\n",
       "    .dataframe thead th {\n",
       "        text-align: right;\n",
       "    }\n",
       "</style>\n",
       "<table border=\"1\" class=\"dataframe\">\n",
       "  <thead>\n",
       "    <tr style=\"text-align: right;\">\n",
       "      <th></th>\n",
       "      <th>Year</th>\n",
       "      <th>Financial Loss (in Million $)</th>\n",
       "      <th>Number of Affected Users</th>\n",
       "      <th>Incident Resolution Time (in Hours)</th>\n",
       "    </tr>\n",
       "  </thead>\n",
       "  <tbody>\n",
       "    <tr>\n",
       "      <th>count</th>\n",
       "      <td>3000.000000</td>\n",
       "      <td>3000.000000</td>\n",
       "      <td>3000.000000</td>\n",
       "      <td>3000.000000</td>\n",
       "    </tr>\n",
       "    <tr>\n",
       "      <th>mean</th>\n",
       "      <td>2019.570333</td>\n",
       "      <td>50.492970</td>\n",
       "      <td>504684.136333</td>\n",
       "      <td>36.476000</td>\n",
       "    </tr>\n",
       "    <tr>\n",
       "      <th>std</th>\n",
       "      <td>2.857932</td>\n",
       "      <td>28.791415</td>\n",
       "      <td>289944.084972</td>\n",
       "      <td>20.570768</td>\n",
       "    </tr>\n",
       "    <tr>\n",
       "      <th>min</th>\n",
       "      <td>2015.000000</td>\n",
       "      <td>0.500000</td>\n",
       "      <td>424.000000</td>\n",
       "      <td>1.000000</td>\n",
       "    </tr>\n",
       "    <tr>\n",
       "      <th>25%</th>\n",
       "      <td>2017.000000</td>\n",
       "      <td>25.757500</td>\n",
       "      <td>255805.250000</td>\n",
       "      <td>19.000000</td>\n",
       "    </tr>\n",
       "    <tr>\n",
       "      <th>50%</th>\n",
       "      <td>2020.000000</td>\n",
       "      <td>50.795000</td>\n",
       "      <td>504513.000000</td>\n",
       "      <td>37.000000</td>\n",
       "    </tr>\n",
       "    <tr>\n",
       "      <th>75%</th>\n",
       "      <td>2022.000000</td>\n",
       "      <td>75.630000</td>\n",
       "      <td>758088.500000</td>\n",
       "      <td>55.000000</td>\n",
       "    </tr>\n",
       "    <tr>\n",
       "      <th>max</th>\n",
       "      <td>2024.000000</td>\n",
       "      <td>99.990000</td>\n",
       "      <td>999635.000000</td>\n",
       "      <td>72.000000</td>\n",
       "    </tr>\n",
       "  </tbody>\n",
       "</table>\n",
       "</div>"
      ]
     },
     "execution_count": 41,
     "metadata": {},
     "output_type": "execute_result"
    }
   ],
   "execution_count": 41
  },
  {
   "cell_type": "code",
   "metadata": {
    "tags": [],
    "ExecuteTime": {
     "end_time": "2025-07-02T13:43:40.933694Z",
     "start_time": "2025-07-02T13:43:40.923537Z"
    }
   },
   "source": "df.describe(include='object')",
   "outputs": [
    {
     "data": {
      "text/plain": [
       "       Country Attack Type Target Industry Attack Source  \\\n",
       "count     3000        3000            3000          3000   \n",
       "unique      10           6               7             4   \n",
       "top         UK        DDoS              IT  Nation-state   \n",
       "freq       321         531             478           794   \n",
       "\n",
       "       Security Vulnerability Type Defense Mechanism Used  \n",
       "count                         3000                   3000  \n",
       "unique                           4                      5  \n",
       "top                       Zero-day              Antivirus  \n",
       "freq                           785                    628  "
      ],
      "text/html": [
       "<div>\n",
       "<style scoped>\n",
       "    .dataframe tbody tr th:only-of-type {\n",
       "        vertical-align: middle;\n",
       "    }\n",
       "\n",
       "    .dataframe tbody tr th {\n",
       "        vertical-align: top;\n",
       "    }\n",
       "\n",
       "    .dataframe thead th {\n",
       "        text-align: right;\n",
       "    }\n",
       "</style>\n",
       "<table border=\"1\" class=\"dataframe\">\n",
       "  <thead>\n",
       "    <tr style=\"text-align: right;\">\n",
       "      <th></th>\n",
       "      <th>Country</th>\n",
       "      <th>Attack Type</th>\n",
       "      <th>Target Industry</th>\n",
       "      <th>Attack Source</th>\n",
       "      <th>Security Vulnerability Type</th>\n",
       "      <th>Defense Mechanism Used</th>\n",
       "    </tr>\n",
       "  </thead>\n",
       "  <tbody>\n",
       "    <tr>\n",
       "      <th>count</th>\n",
       "      <td>3000</td>\n",
       "      <td>3000</td>\n",
       "      <td>3000</td>\n",
       "      <td>3000</td>\n",
       "      <td>3000</td>\n",
       "      <td>3000</td>\n",
       "    </tr>\n",
       "    <tr>\n",
       "      <th>unique</th>\n",
       "      <td>10</td>\n",
       "      <td>6</td>\n",
       "      <td>7</td>\n",
       "      <td>4</td>\n",
       "      <td>4</td>\n",
       "      <td>5</td>\n",
       "    </tr>\n",
       "    <tr>\n",
       "      <th>top</th>\n",
       "      <td>UK</td>\n",
       "      <td>DDoS</td>\n",
       "      <td>IT</td>\n",
       "      <td>Nation-state</td>\n",
       "      <td>Zero-day</td>\n",
       "      <td>Antivirus</td>\n",
       "    </tr>\n",
       "    <tr>\n",
       "      <th>freq</th>\n",
       "      <td>321</td>\n",
       "      <td>531</td>\n",
       "      <td>478</td>\n",
       "      <td>794</td>\n",
       "      <td>785</td>\n",
       "      <td>628</td>\n",
       "    </tr>\n",
       "  </tbody>\n",
       "</table>\n",
       "</div>"
      ]
     },
     "execution_count": 42,
     "metadata": {},
     "output_type": "execute_result"
    }
   ],
   "execution_count": 42
  },
  {
   "cell_type": "code",
   "metadata": {
    "tags": [],
    "ExecuteTime": {
     "end_time": "2025-07-02T13:43:41.000298Z",
     "start_time": "2025-07-02T13:43:40.996306Z"
    }
   },
   "source": "df.columns",
   "outputs": [
    {
     "data": {
      "text/plain": [
       "Index(['Country', 'Year', 'Attack Type', 'Target Industry',\n",
       "       'Financial Loss (in Million $)', 'Number of Affected Users',\n",
       "       'Attack Source', 'Security Vulnerability Type',\n",
       "       'Defense Mechanism Used', 'Incident Resolution Time (in Hours)'],\n",
       "      dtype='object')"
      ]
     },
     "execution_count": 43,
     "metadata": {},
     "output_type": "execute_result"
    }
   ],
   "execution_count": 43
  },
  {
   "cell_type": "code",
   "metadata": {
    "tags": [],
    "ExecuteTime": {
     "end_time": "2025-07-02T13:43:41.065678Z",
     "start_time": "2025-07-02T13:43:41.061565Z"
    }
   },
   "source": "df['Attack Type'].value_counts()",
   "outputs": [
    {
     "data": {
      "text/plain": [
       "Attack Type\n",
       "DDoS                 531\n",
       "Phishing             529\n",
       "SQL Injection        503\n",
       "Ransomware           493\n",
       "Malware              485\n",
       "Man-in-the-Middle    459\n",
       "Name: count, dtype: int64"
      ]
     },
     "execution_count": 44,
     "metadata": {},
     "output_type": "execute_result"
    }
   ],
   "execution_count": 44
  },
  {
   "cell_type": "code",
   "metadata": {
    "tags": [],
    "ExecuteTime": {
     "end_time": "2025-07-02T13:43:41.146681Z",
     "start_time": "2025-07-02T13:43:41.140669Z"
    }
   },
   "source": "df['Attack Type'].value_counts()",
   "outputs": [
    {
     "data": {
      "text/plain": [
       "Attack Type\n",
       "DDoS                 531\n",
       "Phishing             529\n",
       "SQL Injection        503\n",
       "Ransomware           493\n",
       "Malware              485\n",
       "Man-in-the-Middle    459\n",
       "Name: count, dtype: int64"
      ]
     },
     "execution_count": 45,
     "metadata": {},
     "output_type": "execute_result"
    }
   ],
   "execution_count": 45
  },
  {
   "cell_type": "code",
   "metadata": {
    "tags": [],
    "ExecuteTime": {
     "end_time": "2025-07-02T13:43:41.242720Z",
     "start_time": "2025-07-02T13:43:41.232793Z"
    }
   },
   "source": [
    "# Using loc instead of the bracket indexing returns a reference\n",
    "education_df = df.loc[df['Target Industry'] == 'Education']\n",
    "education_df"
   ],
   "outputs": [
    {
     "data": {
      "text/plain": [
       "      Country  Year        Attack Type Target Industry  \\\n",
       "0       China  2019           Phishing       Education   \n",
       "12      India  2019         Ransomware       Education   \n",
       "21     France  2023         Ransomware       Education   \n",
       "26      Japan  2022            Malware       Education   \n",
       "30         UK  2022      SQL Injection       Education   \n",
       "...       ...   ...                ...             ...   \n",
       "2958    Japan  2015           Phishing       Education   \n",
       "2973   Brazil  2016  Man-in-the-Middle       Education   \n",
       "2979    China  2022            Malware       Education   \n",
       "2989   Brazil  2021         Ransomware       Education   \n",
       "2993  Germany  2017      SQL Injection       Education   \n",
       "\n",
       "      Financial Loss (in Million $)  Number of Affected Users Attack Source  \\\n",
       "0                             80.53                    773169  Hacker Group   \n",
       "12                            30.56                    583204       Insider   \n",
       "21                            17.72                    261661       Insider   \n",
       "26                            53.04                    570494  Nation-state   \n",
       "30                            66.24                    678876  Hacker Group   \n",
       "...                             ...                       ...           ...   \n",
       "2958                          58.86                    587851  Nation-state   \n",
       "2973                          19.59                    647998       Insider   \n",
       "2979                          35.05                    596468       Insider   \n",
       "2989                          18.11                    849791  Nation-state   \n",
       "2993                          54.98                    786577       Insider   \n",
       "\n",
       "     Security Vulnerability Type Defense Mechanism Used  \\\n",
       "0             Unpatched Software                    VPN   \n",
       "12                      Zero-day               Firewall   \n",
       "21            Social Engineering                    VPN   \n",
       "26            Unpatched Software                    VPN   \n",
       "30            Social Engineering     AI-based Detection   \n",
       "...                          ...                    ...   \n",
       "2958          Social Engineering             Encryption   \n",
       "2973              Weak Passwords     AI-based Detection   \n",
       "2979          Unpatched Software                    VPN   \n",
       "2989          Unpatched Software                    VPN   \n",
       "2993          Unpatched Software               Firewall   \n",
       "\n",
       "      Incident Resolution Time (in Hours)  \n",
       "0                                      63  \n",
       "12                                     37  \n",
       "21                                     11  \n",
       "26                                     53  \n",
       "30                                     11  \n",
       "...                                   ...  \n",
       "2958                                    6  \n",
       "2973                                   38  \n",
       "2979                                   29  \n",
       "2989                                   53  \n",
       "2993                                   70  \n",
       "\n",
       "[419 rows x 10 columns]"
      ],
      "text/html": [
       "<div>\n",
       "<style scoped>\n",
       "    .dataframe tbody tr th:only-of-type {\n",
       "        vertical-align: middle;\n",
       "    }\n",
       "\n",
       "    .dataframe tbody tr th {\n",
       "        vertical-align: top;\n",
       "    }\n",
       "\n",
       "    .dataframe thead th {\n",
       "        text-align: right;\n",
       "    }\n",
       "</style>\n",
       "<table border=\"1\" class=\"dataframe\">\n",
       "  <thead>\n",
       "    <tr style=\"text-align: right;\">\n",
       "      <th></th>\n",
       "      <th>Country</th>\n",
       "      <th>Year</th>\n",
       "      <th>Attack Type</th>\n",
       "      <th>Target Industry</th>\n",
       "      <th>Financial Loss (in Million $)</th>\n",
       "      <th>Number of Affected Users</th>\n",
       "      <th>Attack Source</th>\n",
       "      <th>Security Vulnerability Type</th>\n",
       "      <th>Defense Mechanism Used</th>\n",
       "      <th>Incident Resolution Time (in Hours)</th>\n",
       "    </tr>\n",
       "  </thead>\n",
       "  <tbody>\n",
       "    <tr>\n",
       "      <th>0</th>\n",
       "      <td>China</td>\n",
       "      <td>2019</td>\n",
       "      <td>Phishing</td>\n",
       "      <td>Education</td>\n",
       "      <td>80.53</td>\n",
       "      <td>773169</td>\n",
       "      <td>Hacker Group</td>\n",
       "      <td>Unpatched Software</td>\n",
       "      <td>VPN</td>\n",
       "      <td>63</td>\n",
       "    </tr>\n",
       "    <tr>\n",
       "      <th>12</th>\n",
       "      <td>India</td>\n",
       "      <td>2019</td>\n",
       "      <td>Ransomware</td>\n",
       "      <td>Education</td>\n",
       "      <td>30.56</td>\n",
       "      <td>583204</td>\n",
       "      <td>Insider</td>\n",
       "      <td>Zero-day</td>\n",
       "      <td>Firewall</td>\n",
       "      <td>37</td>\n",
       "    </tr>\n",
       "    <tr>\n",
       "      <th>21</th>\n",
       "      <td>France</td>\n",
       "      <td>2023</td>\n",
       "      <td>Ransomware</td>\n",
       "      <td>Education</td>\n",
       "      <td>17.72</td>\n",
       "      <td>261661</td>\n",
       "      <td>Insider</td>\n",
       "      <td>Social Engineering</td>\n",
       "      <td>VPN</td>\n",
       "      <td>11</td>\n",
       "    </tr>\n",
       "    <tr>\n",
       "      <th>26</th>\n",
       "      <td>Japan</td>\n",
       "      <td>2022</td>\n",
       "      <td>Malware</td>\n",
       "      <td>Education</td>\n",
       "      <td>53.04</td>\n",
       "      <td>570494</td>\n",
       "      <td>Nation-state</td>\n",
       "      <td>Unpatched Software</td>\n",
       "      <td>VPN</td>\n",
       "      <td>53</td>\n",
       "    </tr>\n",
       "    <tr>\n",
       "      <th>30</th>\n",
       "      <td>UK</td>\n",
       "      <td>2022</td>\n",
       "      <td>SQL Injection</td>\n",
       "      <td>Education</td>\n",
       "      <td>66.24</td>\n",
       "      <td>678876</td>\n",
       "      <td>Hacker Group</td>\n",
       "      <td>Social Engineering</td>\n",
       "      <td>AI-based Detection</td>\n",
       "      <td>11</td>\n",
       "    </tr>\n",
       "    <tr>\n",
       "      <th>...</th>\n",
       "      <td>...</td>\n",
       "      <td>...</td>\n",
       "      <td>...</td>\n",
       "      <td>...</td>\n",
       "      <td>...</td>\n",
       "      <td>...</td>\n",
       "      <td>...</td>\n",
       "      <td>...</td>\n",
       "      <td>...</td>\n",
       "      <td>...</td>\n",
       "    </tr>\n",
       "    <tr>\n",
       "      <th>2958</th>\n",
       "      <td>Japan</td>\n",
       "      <td>2015</td>\n",
       "      <td>Phishing</td>\n",
       "      <td>Education</td>\n",
       "      <td>58.86</td>\n",
       "      <td>587851</td>\n",
       "      <td>Nation-state</td>\n",
       "      <td>Social Engineering</td>\n",
       "      <td>Encryption</td>\n",
       "      <td>6</td>\n",
       "    </tr>\n",
       "    <tr>\n",
       "      <th>2973</th>\n",
       "      <td>Brazil</td>\n",
       "      <td>2016</td>\n",
       "      <td>Man-in-the-Middle</td>\n",
       "      <td>Education</td>\n",
       "      <td>19.59</td>\n",
       "      <td>647998</td>\n",
       "      <td>Insider</td>\n",
       "      <td>Weak Passwords</td>\n",
       "      <td>AI-based Detection</td>\n",
       "      <td>38</td>\n",
       "    </tr>\n",
       "    <tr>\n",
       "      <th>2979</th>\n",
       "      <td>China</td>\n",
       "      <td>2022</td>\n",
       "      <td>Malware</td>\n",
       "      <td>Education</td>\n",
       "      <td>35.05</td>\n",
       "      <td>596468</td>\n",
       "      <td>Insider</td>\n",
       "      <td>Unpatched Software</td>\n",
       "      <td>VPN</td>\n",
       "      <td>29</td>\n",
       "    </tr>\n",
       "    <tr>\n",
       "      <th>2989</th>\n",
       "      <td>Brazil</td>\n",
       "      <td>2021</td>\n",
       "      <td>Ransomware</td>\n",
       "      <td>Education</td>\n",
       "      <td>18.11</td>\n",
       "      <td>849791</td>\n",
       "      <td>Nation-state</td>\n",
       "      <td>Unpatched Software</td>\n",
       "      <td>VPN</td>\n",
       "      <td>53</td>\n",
       "    </tr>\n",
       "    <tr>\n",
       "      <th>2993</th>\n",
       "      <td>Germany</td>\n",
       "      <td>2017</td>\n",
       "      <td>SQL Injection</td>\n",
       "      <td>Education</td>\n",
       "      <td>54.98</td>\n",
       "      <td>786577</td>\n",
       "      <td>Insider</td>\n",
       "      <td>Unpatched Software</td>\n",
       "      <td>Firewall</td>\n",
       "      <td>70</td>\n",
       "    </tr>\n",
       "  </tbody>\n",
       "</table>\n",
       "<p>419 rows × 10 columns</p>\n",
       "</div>"
      ]
     },
     "execution_count": 46,
     "metadata": {},
     "output_type": "execute_result"
    }
   ],
   "execution_count": 46
  },
  {
   "cell_type": "code",
   "metadata": {
    "tags": [],
    "ExecuteTime": {
     "end_time": "2025-07-02T13:43:41.340599Z",
     "start_time": "2025-07-02T13:43:41.334295Z"
    }
   },
   "source": [
    "df.loc[(df['Incident Resolution Time (in Hours)'] > 24), 'High resolution time'] = 'Yes'\n",
    "df.loc[(df['Incident Resolution Time (in Hours)'] <= 24), 'Low resolution time'] = 'No'\n",
    "df['High resolution time']"
   ],
   "outputs": [
    {
     "data": {
      "text/plain": [
       "0       Yes\n",
       "1       Yes\n",
       "2       NaN\n",
       "3       NaN\n",
       "4       Yes\n",
       "       ... \n",
       "2995    Yes\n",
       "2996    Yes\n",
       "2997    Yes\n",
       "2998    NaN\n",
       "2999    Yes\n",
       "Name: High resolution time, Length: 3000, dtype: object"
      ]
     },
     "execution_count": 47,
     "metadata": {},
     "output_type": "execute_result"
    }
   ],
   "execution_count": 47
  },
  {
   "cell_type": "code",
   "metadata": {
    "tags": [],
    "ExecuteTime": {
     "end_time": "2025-07-02T13:43:41.439148Z",
     "start_time": "2025-07-02T13:43:41.433566Z"
    }
   },
   "source": "df.groupby('High resolution time')['Incident Resolution Time (in Hours)'].min()",
   "outputs": [
    {
     "data": {
      "text/plain": [
       "High resolution time\n",
       "Yes    25\n",
       "Name: Incident Resolution Time (in Hours), dtype: int64"
      ]
     },
     "execution_count": 48,
     "metadata": {},
     "output_type": "execute_result"
    }
   ],
   "execution_count": 48
  },
  {
   "cell_type": "code",
   "metadata": {
    "tags": [],
    "ExecuteTime": {
     "end_time": "2025-07-02T13:43:41.640610Z",
     "start_time": "2025-07-02T13:43:41.635111Z"
    }
   },
   "source": "df.groupby('Low resolution time')['Incident Resolution Time (in Hours)'].max()",
   "outputs": [
    {
     "data": {
      "text/plain": [
       "Low resolution time\n",
       "No    24\n",
       "Name: Incident Resolution Time (in Hours), dtype: int64"
      ]
     },
     "execution_count": 49,
     "metadata": {},
     "output_type": "execute_result"
    }
   ],
   "execution_count": 49
  },
  {
   "cell_type": "code",
   "metadata": {
    "tags": [],
    "ExecuteTime": {
     "end_time": "2025-07-02T13:43:41.733603Z",
     "start_time": "2025-07-02T13:43:41.730612Z"
    }
   },
   "source": "",
   "outputs": [],
   "execution_count": null
  },
  {
   "cell_type": "code",
   "metadata": {
    "ExecuteTime": {
     "end_time": "2025-07-02T13:43:41.823065Z",
     "start_time": "2025-07-02T13:43:41.820039Z"
    }
   },
   "source": [],
   "outputs": [],
   "execution_count": null
  },
  {
   "cell_type": "markdown",
   "metadata": {},
   "source": [
    "Let's create a subset that just includes attacks in education."
   ]
  },
  {
   "cell_type": "code",
   "metadata": {
    "tags": [],
    "ExecuteTime": {
     "end_time": "2025-07-02T13:43:41.867575Z",
     "start_time": "2025-07-02T13:43:41.865144Z"
    }
   },
   "source": [],
   "outputs": [],
   "execution_count": null
  },
  {
   "cell_type": "code",
   "metadata": {
    "tags": [],
    "ExecuteTime": {
     "end_time": "2025-07-02T13:43:41.904869Z",
     "start_time": "2025-07-02T13:43:41.902827Z"
    }
   },
   "source": [],
   "outputs": [],
   "execution_count": null
  },
  {
   "cell_type": "code",
   "metadata": {
    "tags": [],
    "ExecuteTime": {
     "end_time": "2025-07-02T13:43:41.938250Z",
     "start_time": "2025-07-02T13:43:41.933493Z"
    }
   },
   "source": [],
   "outputs": [],
   "execution_count": null
  },
  {
   "cell_type": "code",
   "metadata": {
    "tags": [],
    "ExecuteTime": {
     "end_time": "2025-07-02T13:43:41.972915Z",
     "start_time": "2025-07-02T13:43:41.970049Z"
    }
   },
   "source": [],
   "outputs": [],
   "execution_count": null
  },
  {
   "cell_type": "markdown",
   "metadata": {},
   "source": [
    "Let's create a new feature where we categorize incident resolution time as > 24 hours or <=24 hours"
   ]
  },
  {
   "cell_type": "code",
   "metadata": {
    "tags": [],
    "ExecuteTime": {
     "end_time": "2025-07-02T13:43:41.990172Z",
     "start_time": "2025-07-02T13:43:41.987787Z"
    }
   },
   "source": [],
   "outputs": [],
   "execution_count": null
  },
  {
   "cell_type": "code",
   "metadata": {
    "tags": [],
    "ExecuteTime": {
     "end_time": "2025-07-02T13:43:42.027856Z",
     "start_time": "2025-07-02T13:43:42.025067Z"
    }
   },
   "source": [],
   "outputs": [],
   "execution_count": null
  },
  {
   "cell_type": "markdown",
   "metadata": {},
   "source": [
    "Sort the dataframe by 'Number of Affected Users' in descending order"
   ]
  },
  {
   "cell_type": "code",
   "metadata": {
    "tags": [],
    "ExecuteTime": {
     "end_time": "2025-07-02T13:45:06.328552Z",
     "start_time": "2025-07-02T13:45:06.319498Z"
    }
   },
   "source": [
    "B = df.sort_values(by='Number of Affected Users')\n",
    "B.head()"
   ],
   "outputs": [
    {
     "data": {
      "text/plain": [
       "     Country  Year        Attack Type     Target Industry  \\\n",
       "134   France  2015            Malware           Education   \n",
       "1503   India  2021            Malware  Telecommunications   \n",
       "1637      UK  2016               DDoS  Telecommunications   \n",
       "1185  Brazil  2018  Man-in-the-Middle              Retail   \n",
       "577      USA  2024               DDoS              Retail   \n",
       "\n",
       "      Financial Loss (in Million $)  Number of Affected Users Attack Source  \\\n",
       "134                           15.76                       424  Nation-state   \n",
       "1503                          82.66                       586  Hacker Group   \n",
       "1637                          74.50                       735  Hacker Group   \n",
       "1185                          76.39                       984       Insider   \n",
       "577                           15.34                      1068       Insider   \n",
       "\n",
       "     Security Vulnerability Type Defense Mechanism Used  \\\n",
       "134           Unpatched Software              Antivirus   \n",
       "1503                    Zero-day                    VPN   \n",
       "1637          Unpatched Software               Firewall   \n",
       "1185          Unpatched Software               Firewall   \n",
       "577           Social Engineering               Firewall   \n",
       "\n",
       "      Incident Resolution Time (in Hours) High resolution time  \\\n",
       "134                                    58                  Yes   \n",
       "1503                                   23                  NaN   \n",
       "1637                                   69                  Yes   \n",
       "1185                                   56                  Yes   \n",
       "577                                     3                  NaN   \n",
       "\n",
       "     Low resolution time  \n",
       "134                  NaN  \n",
       "1503                  No  \n",
       "1637                 NaN  \n",
       "1185                 NaN  \n",
       "577                   No  "
      ],
      "text/html": [
       "<div>\n",
       "<style scoped>\n",
       "    .dataframe tbody tr th:only-of-type {\n",
       "        vertical-align: middle;\n",
       "    }\n",
       "\n",
       "    .dataframe tbody tr th {\n",
       "        vertical-align: top;\n",
       "    }\n",
       "\n",
       "    .dataframe thead th {\n",
       "        text-align: right;\n",
       "    }\n",
       "</style>\n",
       "<table border=\"1\" class=\"dataframe\">\n",
       "  <thead>\n",
       "    <tr style=\"text-align: right;\">\n",
       "      <th></th>\n",
       "      <th>Country</th>\n",
       "      <th>Year</th>\n",
       "      <th>Attack Type</th>\n",
       "      <th>Target Industry</th>\n",
       "      <th>Financial Loss (in Million $)</th>\n",
       "      <th>Number of Affected Users</th>\n",
       "      <th>Attack Source</th>\n",
       "      <th>Security Vulnerability Type</th>\n",
       "      <th>Defense Mechanism Used</th>\n",
       "      <th>Incident Resolution Time (in Hours)</th>\n",
       "      <th>High resolution time</th>\n",
       "      <th>Low resolution time</th>\n",
       "    </tr>\n",
       "  </thead>\n",
       "  <tbody>\n",
       "    <tr>\n",
       "      <th>134</th>\n",
       "      <td>France</td>\n",
       "      <td>2015</td>\n",
       "      <td>Malware</td>\n",
       "      <td>Education</td>\n",
       "      <td>15.76</td>\n",
       "      <td>424</td>\n",
       "      <td>Nation-state</td>\n",
       "      <td>Unpatched Software</td>\n",
       "      <td>Antivirus</td>\n",
       "      <td>58</td>\n",
       "      <td>Yes</td>\n",
       "      <td>NaN</td>\n",
       "    </tr>\n",
       "    <tr>\n",
       "      <th>1503</th>\n",
       "      <td>India</td>\n",
       "      <td>2021</td>\n",
       "      <td>Malware</td>\n",
       "      <td>Telecommunications</td>\n",
       "      <td>82.66</td>\n",
       "      <td>586</td>\n",
       "      <td>Hacker Group</td>\n",
       "      <td>Zero-day</td>\n",
       "      <td>VPN</td>\n",
       "      <td>23</td>\n",
       "      <td>NaN</td>\n",
       "      <td>No</td>\n",
       "    </tr>\n",
       "    <tr>\n",
       "      <th>1637</th>\n",
       "      <td>UK</td>\n",
       "      <td>2016</td>\n",
       "      <td>DDoS</td>\n",
       "      <td>Telecommunications</td>\n",
       "      <td>74.50</td>\n",
       "      <td>735</td>\n",
       "      <td>Hacker Group</td>\n",
       "      <td>Unpatched Software</td>\n",
       "      <td>Firewall</td>\n",
       "      <td>69</td>\n",
       "      <td>Yes</td>\n",
       "      <td>NaN</td>\n",
       "    </tr>\n",
       "    <tr>\n",
       "      <th>1185</th>\n",
       "      <td>Brazil</td>\n",
       "      <td>2018</td>\n",
       "      <td>Man-in-the-Middle</td>\n",
       "      <td>Retail</td>\n",
       "      <td>76.39</td>\n",
       "      <td>984</td>\n",
       "      <td>Insider</td>\n",
       "      <td>Unpatched Software</td>\n",
       "      <td>Firewall</td>\n",
       "      <td>56</td>\n",
       "      <td>Yes</td>\n",
       "      <td>NaN</td>\n",
       "    </tr>\n",
       "    <tr>\n",
       "      <th>577</th>\n",
       "      <td>USA</td>\n",
       "      <td>2024</td>\n",
       "      <td>DDoS</td>\n",
       "      <td>Retail</td>\n",
       "      <td>15.34</td>\n",
       "      <td>1068</td>\n",
       "      <td>Insider</td>\n",
       "      <td>Social Engineering</td>\n",
       "      <td>Firewall</td>\n",
       "      <td>3</td>\n",
       "      <td>NaN</td>\n",
       "      <td>No</td>\n",
       "    </tr>\n",
       "  </tbody>\n",
       "</table>\n",
       "</div>"
      ]
     },
     "execution_count": 51,
     "metadata": {},
     "output_type": "execute_result"
    }
   ],
   "execution_count": 51
  },
  {
   "cell_type": "code",
   "metadata": {
    "tags": [],
    "ExecuteTime": {
     "end_time": "2025-07-02T13:46:19.778808Z",
     "start_time": "2025-07-02T13:46:19.769822Z"
    }
   },
   "source": [
    "# Alternatively\n",
    "df.sort_values(by='Number of Affected Users', inplace=True)\n",
    "df.head()"
   ],
   "outputs": [
    {
     "data": {
      "text/plain": [
       "     Country  Year        Attack Type     Target Industry  \\\n",
       "134   France  2015            Malware           Education   \n",
       "1503   India  2021            Malware  Telecommunications   \n",
       "1637      UK  2016               DDoS  Telecommunications   \n",
       "1185  Brazil  2018  Man-in-the-Middle              Retail   \n",
       "577      USA  2024               DDoS              Retail   \n",
       "\n",
       "      Financial Loss (in Million $)  Number of Affected Users Attack Source  \\\n",
       "134                           15.76                       424  Nation-state   \n",
       "1503                          82.66                       586  Hacker Group   \n",
       "1637                          74.50                       735  Hacker Group   \n",
       "1185                          76.39                       984       Insider   \n",
       "577                           15.34                      1068       Insider   \n",
       "\n",
       "     Security Vulnerability Type Defense Mechanism Used  \\\n",
       "134           Unpatched Software              Antivirus   \n",
       "1503                    Zero-day                    VPN   \n",
       "1637          Unpatched Software               Firewall   \n",
       "1185          Unpatched Software               Firewall   \n",
       "577           Social Engineering               Firewall   \n",
       "\n",
       "      Incident Resolution Time (in Hours) High resolution time  \\\n",
       "134                                    58                  Yes   \n",
       "1503                                   23                  NaN   \n",
       "1637                                   69                  Yes   \n",
       "1185                                   56                  Yes   \n",
       "577                                     3                  NaN   \n",
       "\n",
       "     Low resolution time  \n",
       "134                  NaN  \n",
       "1503                  No  \n",
       "1637                 NaN  \n",
       "1185                 NaN  \n",
       "577                   No  "
      ],
      "text/html": [
       "<div>\n",
       "<style scoped>\n",
       "    .dataframe tbody tr th:only-of-type {\n",
       "        vertical-align: middle;\n",
       "    }\n",
       "\n",
       "    .dataframe tbody tr th {\n",
       "        vertical-align: top;\n",
       "    }\n",
       "\n",
       "    .dataframe thead th {\n",
       "        text-align: right;\n",
       "    }\n",
       "</style>\n",
       "<table border=\"1\" class=\"dataframe\">\n",
       "  <thead>\n",
       "    <tr style=\"text-align: right;\">\n",
       "      <th></th>\n",
       "      <th>Country</th>\n",
       "      <th>Year</th>\n",
       "      <th>Attack Type</th>\n",
       "      <th>Target Industry</th>\n",
       "      <th>Financial Loss (in Million $)</th>\n",
       "      <th>Number of Affected Users</th>\n",
       "      <th>Attack Source</th>\n",
       "      <th>Security Vulnerability Type</th>\n",
       "      <th>Defense Mechanism Used</th>\n",
       "      <th>Incident Resolution Time (in Hours)</th>\n",
       "      <th>High resolution time</th>\n",
       "      <th>Low resolution time</th>\n",
       "    </tr>\n",
       "  </thead>\n",
       "  <tbody>\n",
       "    <tr>\n",
       "      <th>134</th>\n",
       "      <td>France</td>\n",
       "      <td>2015</td>\n",
       "      <td>Malware</td>\n",
       "      <td>Education</td>\n",
       "      <td>15.76</td>\n",
       "      <td>424</td>\n",
       "      <td>Nation-state</td>\n",
       "      <td>Unpatched Software</td>\n",
       "      <td>Antivirus</td>\n",
       "      <td>58</td>\n",
       "      <td>Yes</td>\n",
       "      <td>NaN</td>\n",
       "    </tr>\n",
       "    <tr>\n",
       "      <th>1503</th>\n",
       "      <td>India</td>\n",
       "      <td>2021</td>\n",
       "      <td>Malware</td>\n",
       "      <td>Telecommunications</td>\n",
       "      <td>82.66</td>\n",
       "      <td>586</td>\n",
       "      <td>Hacker Group</td>\n",
       "      <td>Zero-day</td>\n",
       "      <td>VPN</td>\n",
       "      <td>23</td>\n",
       "      <td>NaN</td>\n",
       "      <td>No</td>\n",
       "    </tr>\n",
       "    <tr>\n",
       "      <th>1637</th>\n",
       "      <td>UK</td>\n",
       "      <td>2016</td>\n",
       "      <td>DDoS</td>\n",
       "      <td>Telecommunications</td>\n",
       "      <td>74.50</td>\n",
       "      <td>735</td>\n",
       "      <td>Hacker Group</td>\n",
       "      <td>Unpatched Software</td>\n",
       "      <td>Firewall</td>\n",
       "      <td>69</td>\n",
       "      <td>Yes</td>\n",
       "      <td>NaN</td>\n",
       "    </tr>\n",
       "    <tr>\n",
       "      <th>1185</th>\n",
       "      <td>Brazil</td>\n",
       "      <td>2018</td>\n",
       "      <td>Man-in-the-Middle</td>\n",
       "      <td>Retail</td>\n",
       "      <td>76.39</td>\n",
       "      <td>984</td>\n",
       "      <td>Insider</td>\n",
       "      <td>Unpatched Software</td>\n",
       "      <td>Firewall</td>\n",
       "      <td>56</td>\n",
       "      <td>Yes</td>\n",
       "      <td>NaN</td>\n",
       "    </tr>\n",
       "    <tr>\n",
       "      <th>577</th>\n",
       "      <td>USA</td>\n",
       "      <td>2024</td>\n",
       "      <td>DDoS</td>\n",
       "      <td>Retail</td>\n",
       "      <td>15.34</td>\n",
       "      <td>1068</td>\n",
       "      <td>Insider</td>\n",
       "      <td>Social Engineering</td>\n",
       "      <td>Firewall</td>\n",
       "      <td>3</td>\n",
       "      <td>NaN</td>\n",
       "      <td>No</td>\n",
       "    </tr>\n",
       "  </tbody>\n",
       "</table>\n",
       "</div>"
      ]
     },
     "execution_count": 53,
     "metadata": {},
     "output_type": "execute_result"
    }
   ],
   "execution_count": 53
  },
  {
   "cell_type": "code",
   "metadata": {
    "tags": [],
    "ExecuteTime": {
     "end_time": "2025-07-02T13:43:42.099297Z",
     "start_time": "2025-07-02T13:43:42.096806Z"
    }
   },
   "source": [],
   "outputs": [],
   "execution_count": null
  },
  {
   "cell_type": "code",
   "metadata": {
    "tags": [],
    "ExecuteTime": {
     "end_time": "2025-07-02T13:43:42.131635Z",
     "start_time": "2025-07-02T13:43:42.126724Z"
    }
   },
   "source": [],
   "outputs": [],
   "execution_count": null
  },
  {
   "cell_type": "markdown",
   "metadata": {},
   "source": [
    "Calculate the average number of affected users by attack type."
   ]
  },
  {
   "cell_type": "code",
   "metadata": {
    "tags": [],
    "ExecuteTime": {
     "end_time": "2025-07-02T13:47:21.416617Z",
     "start_time": "2025-07-02T13:47:21.404914Z"
    }
   },
   "source": "df.isnull()",
   "outputs": [
    {
     "data": {
      "text/plain": [
       "      Country   Year  Attack Type  Target Industry  \\\n",
       "134     False  False        False            False   \n",
       "1503    False  False        False            False   \n",
       "1637    False  False        False            False   \n",
       "1185    False  False        False            False   \n",
       "577     False  False        False            False   \n",
       "...       ...    ...          ...              ...   \n",
       "2440    False  False        False            False   \n",
       "2004    False  False        False            False   \n",
       "2240    False  False        False            False   \n",
       "323     False  False        False            False   \n",
       "2045    False  False        False            False   \n",
       "\n",
       "      Financial Loss (in Million $)  Number of Affected Users  Attack Source  \\\n",
       "134                           False                     False          False   \n",
       "1503                          False                     False          False   \n",
       "1637                          False                     False          False   \n",
       "1185                          False                     False          False   \n",
       "577                           False                     False          False   \n",
       "...                             ...                       ...            ...   \n",
       "2440                          False                     False          False   \n",
       "2004                          False                     False          False   \n",
       "2240                          False                     False          False   \n",
       "323                           False                     False          False   \n",
       "2045                          False                     False          False   \n",
       "\n",
       "      Security Vulnerability Type  Defense Mechanism Used  \\\n",
       "134                         False                   False   \n",
       "1503                        False                   False   \n",
       "1637                        False                   False   \n",
       "1185                        False                   False   \n",
       "577                         False                   False   \n",
       "...                           ...                     ...   \n",
       "2440                        False                   False   \n",
       "2004                        False                   False   \n",
       "2240                        False                   False   \n",
       "323                         False                   False   \n",
       "2045                        False                   False   \n",
       "\n",
       "      Incident Resolution Time (in Hours)  High resolution time  \\\n",
       "134                                 False                 False   \n",
       "1503                                False                  True   \n",
       "1637                                False                 False   \n",
       "1185                                False                 False   \n",
       "577                                 False                  True   \n",
       "...                                   ...                   ...   \n",
       "2440                                False                  True   \n",
       "2004                                False                  True   \n",
       "2240                                False                  True   \n",
       "323                                 False                 False   \n",
       "2045                                False                  True   \n",
       "\n",
       "      Low resolution time  \n",
       "134                  True  \n",
       "1503                False  \n",
       "1637                 True  \n",
       "1185                 True  \n",
       "577                 False  \n",
       "...                   ...  \n",
       "2440                False  \n",
       "2004                False  \n",
       "2240                False  \n",
       "323                  True  \n",
       "2045                False  \n",
       "\n",
       "[3000 rows x 12 columns]"
      ],
      "text/html": [
       "<div>\n",
       "<style scoped>\n",
       "    .dataframe tbody tr th:only-of-type {\n",
       "        vertical-align: middle;\n",
       "    }\n",
       "\n",
       "    .dataframe tbody tr th {\n",
       "        vertical-align: top;\n",
       "    }\n",
       "\n",
       "    .dataframe thead th {\n",
       "        text-align: right;\n",
       "    }\n",
       "</style>\n",
       "<table border=\"1\" class=\"dataframe\">\n",
       "  <thead>\n",
       "    <tr style=\"text-align: right;\">\n",
       "      <th></th>\n",
       "      <th>Country</th>\n",
       "      <th>Year</th>\n",
       "      <th>Attack Type</th>\n",
       "      <th>Target Industry</th>\n",
       "      <th>Financial Loss (in Million $)</th>\n",
       "      <th>Number of Affected Users</th>\n",
       "      <th>Attack Source</th>\n",
       "      <th>Security Vulnerability Type</th>\n",
       "      <th>Defense Mechanism Used</th>\n",
       "      <th>Incident Resolution Time (in Hours)</th>\n",
       "      <th>High resolution time</th>\n",
       "      <th>Low resolution time</th>\n",
       "    </tr>\n",
       "  </thead>\n",
       "  <tbody>\n",
       "    <tr>\n",
       "      <th>134</th>\n",
       "      <td>False</td>\n",
       "      <td>False</td>\n",
       "      <td>False</td>\n",
       "      <td>False</td>\n",
       "      <td>False</td>\n",
       "      <td>False</td>\n",
       "      <td>False</td>\n",
       "      <td>False</td>\n",
       "      <td>False</td>\n",
       "      <td>False</td>\n",
       "      <td>False</td>\n",
       "      <td>True</td>\n",
       "    </tr>\n",
       "    <tr>\n",
       "      <th>1503</th>\n",
       "      <td>False</td>\n",
       "      <td>False</td>\n",
       "      <td>False</td>\n",
       "      <td>False</td>\n",
       "      <td>False</td>\n",
       "      <td>False</td>\n",
       "      <td>False</td>\n",
       "      <td>False</td>\n",
       "      <td>False</td>\n",
       "      <td>False</td>\n",
       "      <td>True</td>\n",
       "      <td>False</td>\n",
       "    </tr>\n",
       "    <tr>\n",
       "      <th>1637</th>\n",
       "      <td>False</td>\n",
       "      <td>False</td>\n",
       "      <td>False</td>\n",
       "      <td>False</td>\n",
       "      <td>False</td>\n",
       "      <td>False</td>\n",
       "      <td>False</td>\n",
       "      <td>False</td>\n",
       "      <td>False</td>\n",
       "      <td>False</td>\n",
       "      <td>False</td>\n",
       "      <td>True</td>\n",
       "    </tr>\n",
       "    <tr>\n",
       "      <th>1185</th>\n",
       "      <td>False</td>\n",
       "      <td>False</td>\n",
       "      <td>False</td>\n",
       "      <td>False</td>\n",
       "      <td>False</td>\n",
       "      <td>False</td>\n",
       "      <td>False</td>\n",
       "      <td>False</td>\n",
       "      <td>False</td>\n",
       "      <td>False</td>\n",
       "      <td>False</td>\n",
       "      <td>True</td>\n",
       "    </tr>\n",
       "    <tr>\n",
       "      <th>577</th>\n",
       "      <td>False</td>\n",
       "      <td>False</td>\n",
       "      <td>False</td>\n",
       "      <td>False</td>\n",
       "      <td>False</td>\n",
       "      <td>False</td>\n",
       "      <td>False</td>\n",
       "      <td>False</td>\n",
       "      <td>False</td>\n",
       "      <td>False</td>\n",
       "      <td>True</td>\n",
       "      <td>False</td>\n",
       "    </tr>\n",
       "    <tr>\n",
       "      <th>...</th>\n",
       "      <td>...</td>\n",
       "      <td>...</td>\n",
       "      <td>...</td>\n",
       "      <td>...</td>\n",
       "      <td>...</td>\n",
       "      <td>...</td>\n",
       "      <td>...</td>\n",
       "      <td>...</td>\n",
       "      <td>...</td>\n",
       "      <td>...</td>\n",
       "      <td>...</td>\n",
       "      <td>...</td>\n",
       "    </tr>\n",
       "    <tr>\n",
       "      <th>2440</th>\n",
       "      <td>False</td>\n",
       "      <td>False</td>\n",
       "      <td>False</td>\n",
       "      <td>False</td>\n",
       "      <td>False</td>\n",
       "      <td>False</td>\n",
       "      <td>False</td>\n",
       "      <td>False</td>\n",
       "      <td>False</td>\n",
       "      <td>False</td>\n",
       "      <td>True</td>\n",
       "      <td>False</td>\n",
       "    </tr>\n",
       "    <tr>\n",
       "      <th>2004</th>\n",
       "      <td>False</td>\n",
       "      <td>False</td>\n",
       "      <td>False</td>\n",
       "      <td>False</td>\n",
       "      <td>False</td>\n",
       "      <td>False</td>\n",
       "      <td>False</td>\n",
       "      <td>False</td>\n",
       "      <td>False</td>\n",
       "      <td>False</td>\n",
       "      <td>True</td>\n",
       "      <td>False</td>\n",
       "    </tr>\n",
       "    <tr>\n",
       "      <th>2240</th>\n",
       "      <td>False</td>\n",
       "      <td>False</td>\n",
       "      <td>False</td>\n",
       "      <td>False</td>\n",
       "      <td>False</td>\n",
       "      <td>False</td>\n",
       "      <td>False</td>\n",
       "      <td>False</td>\n",
       "      <td>False</td>\n",
       "      <td>False</td>\n",
       "      <td>True</td>\n",
       "      <td>False</td>\n",
       "    </tr>\n",
       "    <tr>\n",
       "      <th>323</th>\n",
       "      <td>False</td>\n",
       "      <td>False</td>\n",
       "      <td>False</td>\n",
       "      <td>False</td>\n",
       "      <td>False</td>\n",
       "      <td>False</td>\n",
       "      <td>False</td>\n",
       "      <td>False</td>\n",
       "      <td>False</td>\n",
       "      <td>False</td>\n",
       "      <td>False</td>\n",
       "      <td>True</td>\n",
       "    </tr>\n",
       "    <tr>\n",
       "      <th>2045</th>\n",
       "      <td>False</td>\n",
       "      <td>False</td>\n",
       "      <td>False</td>\n",
       "      <td>False</td>\n",
       "      <td>False</td>\n",
       "      <td>False</td>\n",
       "      <td>False</td>\n",
       "      <td>False</td>\n",
       "      <td>False</td>\n",
       "      <td>False</td>\n",
       "      <td>True</td>\n",
       "      <td>False</td>\n",
       "    </tr>\n",
       "  </tbody>\n",
       "</table>\n",
       "<p>3000 rows × 12 columns</p>\n",
       "</div>"
      ]
     },
     "execution_count": 54,
     "metadata": {},
     "output_type": "execute_result"
    }
   ],
   "execution_count": 54
  },
  {
   "cell_type": "code",
   "metadata": {
    "tags": [],
    "ExecuteTime": {
     "end_time": "2025-07-02T13:48:38.527540Z",
     "start_time": "2025-07-02T13:48:38.522094Z"
    }
   },
   "source": "df.isnull().sum()\n",
   "outputs": [
    {
     "data": {
      "text/plain": [
       "Country                                   0\n",
       "Year                                      0\n",
       "Attack Type                               0\n",
       "Target Industry                           0\n",
       "Financial Loss (in Million $)             0\n",
       "Number of Affected Users                  0\n",
       "Attack Source                             0\n",
       "Security Vulnerability Type               0\n",
       "Defense Mechanism Used                    0\n",
       "Incident Resolution Time (in Hours)       0\n",
       "High resolution time                    991\n",
       "Low resolution time                    2009\n",
       "dtype: int64"
      ]
     },
     "execution_count": 55,
     "metadata": {},
     "output_type": "execute_result"
    }
   ],
   "execution_count": 55
  },
  {
   "cell_type": "code",
   "metadata": {},
   "source": [
    "titanic_df = pd.read_csv('Assets/titanic_passengers.csv')\n",
    "titanic_df.isnull().sum()"
   ],
   "outputs": [],
   "execution_count": null
  },
  {
   "metadata": {
    "tags": [],
    "ExecuteTime": {
     "end_time": "2025-07-02T13:55:10.785016Z",
     "start_time": "2025-07-02T13:55:10.774900Z"
    }
   },
   "cell_type": "code",
   "source": [
    "df['Year'] = pd.to_datetime(df['Year'], format='%Y')\n",
    "df.head()"
   ],
   "outputs": [
    {
     "data": {
      "text/plain": [
       "     Country       Year        Attack Type     Target Industry  \\\n",
       "134   France 2015-01-01            Malware           Education   \n",
       "1503   India 2021-01-01            Malware  Telecommunications   \n",
       "1637      UK 2016-01-01               DDoS  Telecommunications   \n",
       "1185  Brazil 2018-01-01  Man-in-the-Middle              Retail   \n",
       "577      USA 2024-01-01               DDoS              Retail   \n",
       "\n",
       "      Financial Loss (in Million $)  Number of Affected Users Attack Source  \\\n",
       "134                           15.76                       424  Nation-state   \n",
       "1503                          82.66                       586  Hacker Group   \n",
       "1637                          74.50                       735  Hacker Group   \n",
       "1185                          76.39                       984       Insider   \n",
       "577                           15.34                      1068       Insider   \n",
       "\n",
       "     Security Vulnerability Type Defense Mechanism Used  \\\n",
       "134           Unpatched Software              Antivirus   \n",
       "1503                    Zero-day                    VPN   \n",
       "1637          Unpatched Software               Firewall   \n",
       "1185          Unpatched Software               Firewall   \n",
       "577           Social Engineering               Firewall   \n",
       "\n",
       "      Incident Resolution Time (in Hours) High resolution time  \\\n",
       "134                                    58                  Yes   \n",
       "1503                                   23                  NaN   \n",
       "1637                                   69                  Yes   \n",
       "1185                                   56                  Yes   \n",
       "577                                     3                  NaN   \n",
       "\n",
       "     Low resolution time  \n",
       "134                  NaN  \n",
       "1503                  No  \n",
       "1637                 NaN  \n",
       "1185                 NaN  \n",
       "577                   No  "
      ],
      "text/html": [
       "<div>\n",
       "<style scoped>\n",
       "    .dataframe tbody tr th:only-of-type {\n",
       "        vertical-align: middle;\n",
       "    }\n",
       "\n",
       "    .dataframe tbody tr th {\n",
       "        vertical-align: top;\n",
       "    }\n",
       "\n",
       "    .dataframe thead th {\n",
       "        text-align: right;\n",
       "    }\n",
       "</style>\n",
       "<table border=\"1\" class=\"dataframe\">\n",
       "  <thead>\n",
       "    <tr style=\"text-align: right;\">\n",
       "      <th></th>\n",
       "      <th>Country</th>\n",
       "      <th>Year</th>\n",
       "      <th>Attack Type</th>\n",
       "      <th>Target Industry</th>\n",
       "      <th>Financial Loss (in Million $)</th>\n",
       "      <th>Number of Affected Users</th>\n",
       "      <th>Attack Source</th>\n",
       "      <th>Security Vulnerability Type</th>\n",
       "      <th>Defense Mechanism Used</th>\n",
       "      <th>Incident Resolution Time (in Hours)</th>\n",
       "      <th>High resolution time</th>\n",
       "      <th>Low resolution time</th>\n",
       "    </tr>\n",
       "  </thead>\n",
       "  <tbody>\n",
       "    <tr>\n",
       "      <th>134</th>\n",
       "      <td>France</td>\n",
       "      <td>2015-01-01</td>\n",
       "      <td>Malware</td>\n",
       "      <td>Education</td>\n",
       "      <td>15.76</td>\n",
       "      <td>424</td>\n",
       "      <td>Nation-state</td>\n",
       "      <td>Unpatched Software</td>\n",
       "      <td>Antivirus</td>\n",
       "      <td>58</td>\n",
       "      <td>Yes</td>\n",
       "      <td>NaN</td>\n",
       "    </tr>\n",
       "    <tr>\n",
       "      <th>1503</th>\n",
       "      <td>India</td>\n",
       "      <td>2021-01-01</td>\n",
       "      <td>Malware</td>\n",
       "      <td>Telecommunications</td>\n",
       "      <td>82.66</td>\n",
       "      <td>586</td>\n",
       "      <td>Hacker Group</td>\n",
       "      <td>Zero-day</td>\n",
       "      <td>VPN</td>\n",
       "      <td>23</td>\n",
       "      <td>NaN</td>\n",
       "      <td>No</td>\n",
       "    </tr>\n",
       "    <tr>\n",
       "      <th>1637</th>\n",
       "      <td>UK</td>\n",
       "      <td>2016-01-01</td>\n",
       "      <td>DDoS</td>\n",
       "      <td>Telecommunications</td>\n",
       "      <td>74.50</td>\n",
       "      <td>735</td>\n",
       "      <td>Hacker Group</td>\n",
       "      <td>Unpatched Software</td>\n",
       "      <td>Firewall</td>\n",
       "      <td>69</td>\n",
       "      <td>Yes</td>\n",
       "      <td>NaN</td>\n",
       "    </tr>\n",
       "    <tr>\n",
       "      <th>1185</th>\n",
       "      <td>Brazil</td>\n",
       "      <td>2018-01-01</td>\n",
       "      <td>Man-in-the-Middle</td>\n",
       "      <td>Retail</td>\n",
       "      <td>76.39</td>\n",
       "      <td>984</td>\n",
       "      <td>Insider</td>\n",
       "      <td>Unpatched Software</td>\n",
       "      <td>Firewall</td>\n",
       "      <td>56</td>\n",
       "      <td>Yes</td>\n",
       "      <td>NaN</td>\n",
       "    </tr>\n",
       "    <tr>\n",
       "      <th>577</th>\n",
       "      <td>USA</td>\n",
       "      <td>2024-01-01</td>\n",
       "      <td>DDoS</td>\n",
       "      <td>Retail</td>\n",
       "      <td>15.34</td>\n",
       "      <td>1068</td>\n",
       "      <td>Insider</td>\n",
       "      <td>Social Engineering</td>\n",
       "      <td>Firewall</td>\n",
       "      <td>3</td>\n",
       "      <td>NaN</td>\n",
       "      <td>No</td>\n",
       "    </tr>\n",
       "  </tbody>\n",
       "</table>\n",
       "</div>"
      ]
     },
     "execution_count": 63,
     "metadata": {},
     "output_type": "execute_result"
    }
   ],
   "execution_count": 63
  },
  {
   "cell_type": "markdown",
   "metadata": {},
   "source": [
    "## The case for using AI\n"
   ]
  },
  {
   "cell_type": "markdown",
   "metadata": {},
   "source": [
    "When is using AI a good idea?"
   ]
  },
  {
   "cell_type": "markdown",
   "metadata": {},
   "source": []
  },
  {
   "cell_type": "markdown",
   "metadata": {},
   "source": [
    "When is using AI a bad idea?"
   ]
  },
  {
   "cell_type": "markdown",
   "metadata": {},
   "source": []
  },
  {
   "cell_type": "markdown",
   "metadata": {},
   "source": [
    "## Asking interesting questions\n",
    "\n",
    "What are 5 interesting questions we can ask about our data?\n",
    "\n",
    "How can we use AI to help us write Pandas to answer them?"
   ]
  }
 ],
 "metadata": {
  "anaconda-cloud": {},
  "kernelspec": {
   "display_name": "Python 3 (ipykernel)",
   "language": "python",
   "name": "python3"
  },
  "language_info": {
   "codemirror_mode": {
    "name": "ipython",
    "version": 3
   },
   "file_extension": ".py",
   "mimetype": "text/x-python",
   "name": "python",
   "nbconvert_exporter": "python",
   "pygments_lexer": "ipython3",
   "version": "3.11.4"
  },
  "vscode": {
   "interpreter": {
    "hash": "ce119b89bc2e74c761eac86109834d120346842bff8d13cbadf57b85ac0c1fd2"
   }
  }
 },
 "nbformat": 4,
 "nbformat_minor": 4
}
