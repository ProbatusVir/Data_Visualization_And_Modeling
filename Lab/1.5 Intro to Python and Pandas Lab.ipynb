{
 "cells": [
  {
   "cell_type": "markdown",
   "id": "03ba50ef-04a5-4edc-9ef8-747de437c608",
   "metadata": {},
   "source": [
    "# Lab Instructions\n",
    "\n",
    "Find a dataset that interests you. I'd recommend starting on [Kaggle](https://www.kaggle.com/). Read through all of the material about the dataset and download a .CSV file.\n",
    "\n",
    "1. Write a short summary of the data.  Where did it come from?  How was it collected?  What are the features in the data?  Why is this dataset interesting to you?  \n",
    "\n",
    "2. Identify 5 interesting questions about your data that you can answer using Pandas methods.  \n",
    "\n",
    "3. Answer those questions!  You may use any method you want (including LLMs) to help you write your code; however, you should use Pandas to find the answers.  LLMs will not always write code in this way without specific instruction.  \n",
    "\n",
    "4. Write the answer to your question in a text box underneath the code you used to calculate the answer.\n",
    "\n"
   ]
  },
  {
   "metadata": {},
   "cell_type": "markdown",
   "source": [
    "\n",
    "###  [\"List of Goods Produced by Child Labor or Forced Labor\", US Department of Labor (2024)](https://catalog.data.gov/dataset/list-of-goods-produced-by-child-labor-or-forced-labor-57e0f)\n",
    "\n",
    "This data is from the US Department of Labor. The primary sources are collected by various institutions and appear to be collected and verified by the Bureau of Internation Labor Affairs, but hosted on the Department of Labor's website [here](https://www.dol.gov/agencies/ilab/research-impact-evaluation).\n",
    "\n",
    "The dataset features the country/area of the labor, the good being produced, if child labor is being employed, if forced labor is being employed, and if forced child labor is being employed (note: child labor and forced labor do not necessarily imply forced child labor, however forced child labor does necessarily imply both).\n",
    "\n",
    "I chose this dataset because I have been interested in the field of various kinds of forced labor for some time. In high school I wrote extensively on child soldiers, so I am familiar with sourcing this data and interpreting it. To quote Ayn Rand \"A desire presupposes the possibility of action to achieve it; action presupposes a goal worth achieving.\" Which illustrates the tautological necessity of awareness of such evil if it is to be eliminated. Therefore, I choose to write about it to give another consciousness awareness to it.\n",
    "\n",
    "Unfortunately, I can only foresee the problem of child labor and child soldiers growing due to recent conflicts, but 2024 is the most recent data that I could find."
   ],
   "id": "384f746d3489c32e"
  },
  {
   "metadata": {},
   "cell_type": "markdown",
   "source": [
    "### 5 Questions\n",
    "1. What is the most common good manufactured with child labor?\n",
    "\n",
    "1. Which country has the most diverse set of goods manufactured by means of the specified labors?\n",
    "\n",
    "1. Are the most common goods different between child labor, forced labor, or forced child labor?\n",
    "\n",
    "1. Which country(s) produce a significant amount of child pornography?\n",
    "\n",
    "1. Is there a single country which produces a significant amount of pornography by means of forced labor, which doesn't also produce a significant amount of child pornography?\n",
    "\n",
    "\n",
    "\n"
   ],
   "id": "4315b0d95dc6d1a5"
  },
  {
   "metadata": {
    "ExecuteTime": {
     "end_time": "2025-07-02T19:50:10.943278Z",
     "start_time": "2025-07-02T19:50:10.937543Z"
    }
   },
   "cell_type": "code",
   "source": [
    "import pandas as pd\n",
    "data_df = pd.read_csv(\"2024ListofGoodsExcel.csv\", encoding='iso-8859-1')"
   ],
   "id": "9a0282830f886974",
   "outputs": [],
   "execution_count": 90
  },
  {
   "metadata": {
    "ExecuteTime": {
     "end_time": "2025-07-02T19:50:10.968612Z",
     "start_time": "2025-07-02T19:50:10.962013Z"
    }
   },
   "cell_type": "code",
   "source": [
    "# Most common goods manufactured with child labor\n",
    "cl_staples = data_df.loc[(data_df['Child Labor'] == True)]['Good'].value_counts()\n",
    "cl_staples.head(1)\n",
    "\n",
    "# Get the number of countries utilizing child labor\n",
    "#len(data_df.loc[(data_df['Child Labor'] == True)][\"Country/Area\"].unique()) #describe(include='objects')"
   ],
   "id": "657b83d22794b55a",
   "outputs": [
    {
     "data": {
      "text/plain": [
       "Good\n",
       "Gold    26\n",
       "Name: count, dtype: int64"
      ]
     },
     "execution_count": 91,
     "metadata": {},
     "output_type": "execute_result"
    }
   ],
   "execution_count": 91
  },
  {
   "metadata": {},
   "cell_type": "markdown",
   "source": "The most common good manufactured with child labor is gold, with 26 of the 75 countries that use child labor using children to produce gold. This is just over 1/3 of all the countries which use child labor.",
   "id": "2b6e9cd109892040"
  },
  {
   "metadata": {
    "ExecuteTime": {
     "end_time": "2025-07-02T19:50:11.020946Z",
     "start_time": "2025-07-02T19:50:11.014931Z"
    }
   },
   "cell_type": "code",
   "source": [
    "# Which country has the most diverse set of goods through these labors\n",
    "\n",
    "# This implementation looks very silly. To clarify what is happening here:\n",
    "#   Every record is a pair of Country and Good with associated data about\n",
    "#   The labor. Therefore, we can simply count the frequency of a country's\n",
    "#   appearances in the records if we want to count how many unique goods\n",
    "#   that country has.\n",
    "data_df.describe(include='object')['Country/Area']['top']"
   ],
   "id": "df5513e0b19ca07b",
   "outputs": [
    {
     "data": {
      "text/plain": [
       "'India'"
      ]
     },
     "execution_count": 92,
     "metadata": {},
     "output_type": "execute_result"
    }
   ],
   "execution_count": 92
  },
  {
   "metadata": {},
   "cell_type": "markdown",
   "source": "India produces the most diverse set of goods utilizing a combination of child labor, forced labor, and forced child labor. There are 28 goods listed in the data, only two of which are not obtained through child labor, but only through forced labor of adults, namely tea and shrimp.",
   "id": "ed153c66be5a871f"
  },
  {
   "metadata": {
    "ExecuteTime": {
     "end_time": "2025-07-02T19:50:11.079775Z",
     "start_time": "2025-07-02T19:50:11.072776Z"
    }
   },
   "cell_type": "code",
   "source": [
    "# Does the most common good differ amongst the different types of labor\n",
    "fl_staples = data_df.loc[(data_df['Forced Labor'] == True)]['Good'].value_counts()\n",
    "fcl_staples = data_df.loc[(data_df['Forced Child Labor'] == True)]['Good'].value_counts()\n",
    "\n",
    "# bit 1 is a == b\n",
    "# bit 2 is a == c\n",
    "# bit 3 is b == c\n",
    "bit_mask = 0b000\n",
    "cl_staple = cl_staples.index[0]\n",
    "fl_staple = fl_staples.index[0]\n",
    "fcl_staple = fcl_staples.index[0]\n",
    "\n",
    "print(f\"Most common good produced by child labor: {cl_staples.index[0]}\")\n",
    "print(f\"Most common good produced by forced labor: {fl_staples.index[0]}\")\n",
    "print(f\"Most common good produced by forced child labor: {fcl_staples.index[0]}\")\n",
    "\n",
    "bit_mask += 1 * (cl_staple == fl_staple)\n",
    "bit_mask += 2 * (cl_staple == fcl_staple)\n",
    "bit_mask += 4 * (fl_staple == fcl_staple)\n",
    "\n",
    "\n",
    "match bit_mask:\n",
    "\tcase 0b000: print(\"None of the most common goods are the same amongst these wretched labors.\")\n",
    "\tcase 0b001: print(\"The most common good is the same between child labor and forced labor.\")\n",
    "\tcase 0b010: print(\"The most common good is the same between child labor and forced child labor.\")\n",
    "\n",
    "\tcase 0b100: print(\"The most common good is the same between forced labor and forced child labor.\")\n",
    "\tcase 0b111: print(\"The most common good is the same amongst all types of wretched labor.\")\n",
    "\tcase default: print(\"Something went gravely wrong somehow...\")"
   ],
   "id": "77a2e15c114a16fb",
   "outputs": [
    {
     "name": "stdout",
     "output_type": "stream",
     "text": [
      "Most common good produced by child labor: Gold\n",
      "Most common good produced by forced labor: Garments\n",
      "Most common good produced by forced child labor: Bricks\n",
      "None of the most common goods are the same amongst these wretched labors.\n"
     ]
    }
   ],
   "execution_count": 93
  },
  {
   "metadata": {},
   "cell_type": "markdown",
   "source": "The most common goods produced by each type of labor are all distinct from each other. This implies that the work that children do voluntarily is different from the work they are forced to do, and that there is a difference between what adults are normally forced to do than what children are normally forced to do. This is a narrow interpretation, and there are cases of overlap between jobs that children do (voluntarily or involuntarily) and that adults are forced to do.",
   "id": "20a89d546bf41cc8"
  },
  {
   "metadata": {
    "ExecuteTime": {
     "end_time": "2025-07-02T19:50:11.136925Z",
     "start_time": "2025-07-02T19:50:11.129776Z"
    }
   },
   "cell_type": "code",
   "source": [
    "# Countries producing significant amount of child pornography\n",
    "child_porn = data_df.loc[(data_df['Good'] == \"Pornography\") & (data_df[\"Child Labor\"] == True)]\n",
    "child_porn"
   ],
   "id": "58ee838474a7ce71",
   "outputs": [
    {
     "data": {
      "text/plain": [
       "    Country/Area         Good  Child Labor  Forced Labor  Forced Child Labor\n",
       "144     Colombia  Pornography            1             0                   0\n",
       "291       Mexico  Pornography            1             0                   0\n",
       "361     Paraguay  Pornography            1             0                   0\n",
       "384  Philippines  Pornography            1             0                   0\n",
       "391       Russia  Pornography            1             1                   1\n",
       "418     Thailand  Pornography            1             0                   0\n",
       "447      Ukraine  Pornography            1             0                   0"
      ],
      "text/html": [
       "<div>\n",
       "<style scoped>\n",
       "    .dataframe tbody tr th:only-of-type {\n",
       "        vertical-align: middle;\n",
       "    }\n",
       "\n",
       "    .dataframe tbody tr th {\n",
       "        vertical-align: top;\n",
       "    }\n",
       "\n",
       "    .dataframe thead th {\n",
       "        text-align: right;\n",
       "    }\n",
       "</style>\n",
       "<table border=\"1\" class=\"dataframe\">\n",
       "  <thead>\n",
       "    <tr style=\"text-align: right;\">\n",
       "      <th></th>\n",
       "      <th>Country/Area</th>\n",
       "      <th>Good</th>\n",
       "      <th>Child Labor</th>\n",
       "      <th>Forced Labor</th>\n",
       "      <th>Forced Child Labor</th>\n",
       "    </tr>\n",
       "  </thead>\n",
       "  <tbody>\n",
       "    <tr>\n",
       "      <th>144</th>\n",
       "      <td>Colombia</td>\n",
       "      <td>Pornography</td>\n",
       "      <td>1</td>\n",
       "      <td>0</td>\n",
       "      <td>0</td>\n",
       "    </tr>\n",
       "    <tr>\n",
       "      <th>291</th>\n",
       "      <td>Mexico</td>\n",
       "      <td>Pornography</td>\n",
       "      <td>1</td>\n",
       "      <td>0</td>\n",
       "      <td>0</td>\n",
       "    </tr>\n",
       "    <tr>\n",
       "      <th>361</th>\n",
       "      <td>Paraguay</td>\n",
       "      <td>Pornography</td>\n",
       "      <td>1</td>\n",
       "      <td>0</td>\n",
       "      <td>0</td>\n",
       "    </tr>\n",
       "    <tr>\n",
       "      <th>384</th>\n",
       "      <td>Philippines</td>\n",
       "      <td>Pornography</td>\n",
       "      <td>1</td>\n",
       "      <td>0</td>\n",
       "      <td>0</td>\n",
       "    </tr>\n",
       "    <tr>\n",
       "      <th>391</th>\n",
       "      <td>Russia</td>\n",
       "      <td>Pornography</td>\n",
       "      <td>1</td>\n",
       "      <td>1</td>\n",
       "      <td>1</td>\n",
       "    </tr>\n",
       "    <tr>\n",
       "      <th>418</th>\n",
       "      <td>Thailand</td>\n",
       "      <td>Pornography</td>\n",
       "      <td>1</td>\n",
       "      <td>0</td>\n",
       "      <td>0</td>\n",
       "    </tr>\n",
       "    <tr>\n",
       "      <th>447</th>\n",
       "      <td>Ukraine</td>\n",
       "      <td>Pornography</td>\n",
       "      <td>1</td>\n",
       "      <td>0</td>\n",
       "      <td>0</td>\n",
       "    </tr>\n",
       "  </tbody>\n",
       "</table>\n",
       "</div>"
      ]
     },
     "execution_count": 94,
     "metadata": {},
     "output_type": "execute_result"
    }
   ],
   "execution_count": 94
  },
  {
   "metadata": {},
   "cell_type": "code",
   "source": [
    "# Are there any countries that produce pornography with forced labor that do not produce child pornography\n",
    "forced_porn = data_df.loc[(data_df['Good'] == \"Pornography\") & (data_df['Forced Labor'] == True)]\n",
    "\n",
    "# In order to not obscure who is on the list\n",
    "print(f\"A list of all countries which produce forced pornography:\")\n",
    "forced_porn"
   ],
   "id": "7530f41ba11fdb69",
   "outputs": [],
   "execution_count": null
  },
  {
   "metadata": {},
   "cell_type": "code",
   "source": [
    "fp_countries = forced_porn['Country/Area']\n",
    "cp_countries = child_porn['Country/Area']\n",
    "\n",
    "# We want to see if any two points of data do not match\n",
    "found_match = False\n",
    "for x in fp_countries:\n",
    "\tfound_match = False\n",
    "\tfor y in cp_countries:\n",
    "\t\tif x == y:\n",
    "\t\t\tfound_match = True\n",
    "\t\t\tbreak\n",
    "\tif not found_match:\n",
    "\t\tbreak\n",
    "\n",
    "\n",
    "if found_match & (len(forced_porn) != 0) & (len(child_porn) != 0): # This will only trigger if every point in forced_porn mapped to a point in child_porn\n",
    "\tprint(\"Every country which produces pornography via forced labor, produces a significant amount of child pornography\")\n",
    "else:\n",
    "\tprint(\"There is at least one country that forces the production of pornography, which doesn't also produce child pornography\")"
   ],
   "id": "439d57ac4f6943c2",
   "outputs": [],
   "execution_count": null
  },
  {
   "metadata": {},
   "cell_type": "markdown",
   "source": [
    "Every country which produces pornography via forced labor, produces a significant amount of child pornography. In the data we are given, the only country which produces a significant amount of pornography via forced labor, Russia, also does so through forced child labor. It is sickening, and unclear whether there are adults who are forced into making pornography as well.\n",
    "\n",
    "There is not enough data given to draw conclusive results from, but there may be a relation between areas that impose upon adults to film pornography, and areas which also force children to make porn."
   ],
   "id": "5f59899d4b41409d"
  }
 ],
 "metadata": {
  "kernelspec": {
   "display_name": "Python 3 (ipykernel)",
   "language": "python",
   "name": "python3"
  },
  "language_info": {
   "codemirror_mode": {
    "name": "ipython",
    "version": 3
   },
   "file_extension": ".py",
   "mimetype": "text/x-python",
   "name": "python",
   "nbconvert_exporter": "python",
   "pygments_lexer": "ipython3",
   "version": "3.11.4"
  }
 },
 "nbformat": 4,
 "nbformat_minor": 5
}
