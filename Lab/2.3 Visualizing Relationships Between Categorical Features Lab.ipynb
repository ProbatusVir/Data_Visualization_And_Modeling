{
 "cells": [
  {
   "cell_type": "markdown",
   "id": "03b012f6-6644-4c05-8269-586b4dc6b8fc",
   "metadata": {},
   "source": [
    "# Lab Instructions\n",
    "\n",
    "You have been hired by James Cameron to create profiles of two characters for a reboot of the Titanic Movie: one that is most likely to survive the sinking and one that is least likely to survive.  Mr. Cameron wants this reboot to be as historically accurate as possible, so your profile of each character should be backed up with data and visualizations.\n",
    "\n",
    "Each character profile should include information on their:\n",
    "* Age, fare\n",
    "* Sex\n",
    "* Passenger class\n",
    "* Travel companions (including both parents/children and siblings/spouse)\n",
    "* Port of departure\n",
    "\n",
    "For quantitative features like `Age` and `Fare`, you will need to use the `.loc` method we learned in class (or something similar) to place individuals in categories.  How you choose to do this is up to you, but make sure you explain your reasoning.\n",
    "\n",
    "You should include at least one visualization for each element of the character profile (age, sex, passenger class, etc.) as evidence.\n",
    "\n",
    "After you have developed your two character profiles, use your Pandas data wrangling skills to identify at least one real passenger in the dataset that fits each profile.  Print out the names of these individuals.  Look them up in [Encyclopeida Titanica](https://www.encyclopedia-titanica.org/) (or a similar resource).  \n",
    "\n",
    "Tell Mr. Cameron at least one thing about the real passengers who fit your two character profiles that you learned from an external resource.  You need one interesting fact about a person who fits the profile of \"most likely to survive\" and one interesting fact about a person who fits the profile of \"least likely to surivive\".  \n",
    "\n"
   ]
  },
  {
   "cell_type": "code",
   "id": "3e525c9c-d0f3-48af-b0d9-6f7c6dfdb49d",
   "metadata": {
    "ExecuteTime": {
     "end_time": "2025-07-14T21:01:51.293367Z",
     "start_time": "2025-07-14T21:01:51.260866Z"
    }
   },
   "source": [
    "import pandas as pd\n",
    "import seaborn as sns\n",
    "import matplotlib.pyplot as plt\n",
    "import plotly.express as px\n",
    "df = pd.read_csv('titanic_passengers.csv');"
   ],
   "outputs": [],
   "execution_count": 31
  },
  {
   "metadata": {},
   "cell_type": "markdown",
   "source": [
    "\n",
    "## Concerned categories:\n",
    "* Age -> make into child (0-9), adolescent (10-19), adult(> 19) as defined by WHO\n",
    "* Fare -> make into 4 categories, just use the percentiles...\n",
    "* PClass -> 1 is upper, 2 is middle, 3 is lower\n",
    "* Companions -> Parch + SibSp\n",
    "* Embarked -> C is Cherbourg, Q is Queenstown, S is Southampton"
   ],
   "id": "658de92b5b116213"
  },
  {
   "metadata": {},
   "cell_type": "markdown",
   "source": "We will convert the Parent/Child category to Single, Pair, and Group, because there are undeniable social consequences to these groupings. A person on their own has nobody to depend on. A pair likely has a very strong bond to be there together, and so will probably act to help each other. A group is more complex because there are many group dynamics to be considered; there is strength in numbers yes, but also hesitation and uncertain, such as diffusion of responsibility, to name one.",
   "id": "d4078b1f3d0db9"
  },
  {
   "metadata": {
    "ExecuteTime": {
     "end_time": "2025-07-14T21:01:51.316528Z",
     "start_time": "2025-07-14T21:01:51.305472Z"
    }
   },
   "cell_type": "code",
   "source": [
    "df.loc[df['Parch'] + df['SibSp'] == 0, 'Companions'] = '0Single'\n",
    "df.loc[df['Parch'] + df['SibSp'] == 1, 'Companions'] = '1Pair'\n",
    "df.loc[df['Parch'] + df['SibSp'] >  1, 'Companions'] = '2Group'"
   ],
   "id": "4de7b8b15d65d0a",
   "outputs": [],
   "execution_count": 32
  },
  {
   "metadata": {},
   "cell_type": "markdown",
   "source": "We will split the age groups into minor, adult, and senior. This is because minors will be dependent, adults should be primarily independent, and seniors are also dependents. We will assume all unlisted ages are adults, because it seems the most accepted practice is to take the median age of the group and apply that. However, I do not wish to alter the data outside of the rows that I create, so I will let the ages be NaN to indicate that the data does not actually exist, but make those records in my own group be the same group as the median age. Since the median age is 28, we will make the default AgeGroup 'Adult'",
   "id": "44b80ca7cca611ab"
  },
  {
   "metadata": {
    "ExecuteTime": {
     "end_time": "2025-07-14T21:01:51.353330Z",
     "start_time": "2025-07-14T21:01:51.338928Z"
    }
   },
   "cell_type": "code",
   "source": [
    "df.loc[df['Age'] >= 65, 'AgeGroup'] =   '2Senior'  # Senior\n",
    "df.loc[df['Age'] < 65, 'AgeGroup'] =    '1Adult'   # Adult\n",
    "df.loc[df['Age'] <=  18, 'AgeGroup'] =  '0Child'   # Minor\n",
    "df['AgeGroup'] = df['AgeGroup'].fillna('1Adult')   # Default (adult)"
   ],
   "id": "95c1b289450db839",
   "outputs": [],
   "execution_count": 33
  },
  {
   "metadata": {},
   "cell_type": "markdown",
   "source": "I don't see much value in categorizing the fare when the passenger class data is available, so I am categorizing the fare in the most 'fair' way, such that each group has the same number of people.",
   "id": "5bf5f503ff871af"
  },
  {
   "metadata": {
    "ExecuteTime": {
     "end_time": "2025-07-14T21:01:51.391226Z",
     "start_time": "2025-07-14T21:01:51.380324Z"
    }
   },
   "cell_type": "code",
   "source": [
    "df.loc[df['Fare'] <= df['Fare'].quantile(3 / 3), 'FareGroup'] = 'Q3'\n",
    "df.loc[df['Fare'] <= df['Fare'].quantile(2 / 3), 'FareGroup'] = 'Q2'\n",
    "df.loc[df['Fare'] <= df['Fare'].quantile(1 / 3), 'FareGroup'] = 'Q1'"
   ],
   "id": "63da6bf9156c9b34",
   "outputs": [],
   "execution_count": 34
  },
  {
   "metadata": {},
   "cell_type": "markdown",
   "source": "Lastly, we will populate the missing data for 'Embarked' with whichever port was most popular because it seems like most people will fill blank data with data that best represents the whole.",
   "id": "69efd62e63e713ba"
  },
  {
   "metadata": {
    "ExecuteTime": {
     "end_time": "2025-07-14T21:01:51.404800Z",
     "start_time": "2025-07-14T21:01:51.398327Z"
    }
   },
   "cell_type": "code",
   "source": [
    "most_common_port = df['Embarked'].mode()\n",
    "df['Embarked'] = df['Embarked'].fillna(most_common_port[0])"
   ],
   "id": "3e674676bae02a7d",
   "outputs": [],
   "execution_count": 35
  },
  {
   "metadata": {
    "ExecuteTime": {
     "end_time": "2025-07-14T21:01:51.499998Z",
     "start_time": "2025-07-14T21:01:51.419938Z"
    }
   },
   "cell_type": "code",
   "source": [
    "sns.histplot(data=df.sort_values('FareGroup'), x='FareGroup', hue='Survived', element='step')\n",
    "plt.legend(['Survived', 'Died'])\n",
    "plt.title = \"Survivorship on the Titanic Based on Fare\"\n",
    "plt.ylabel('Number of People')\n",
    "plt.xlabel('Ticket Price Quantile')\n",
    "plt.show() # I have no clue why it's not showing the title..."
   ],
   "id": "b4105dfb6fb09d98",
   "outputs": [
    {
     "data": {
      "text/plain": [
       "<Figure size 640x480 with 1 Axes>"
      ],
      "image/png": "[encoded data removed]"
     },
     "metadata": {},
     "output_type": "display_data"
    }
   ],
   "execution_count": 36
  },
  {
   "metadata": {},
   "cell_type": "markdown",
   "source": "Looking for the points where the 'Survived' is higher than the died, we see this is only true for the third quantile of fare price. We can see that there is a sharp and consistent rise in survivorship as the fare price rises. This suggests a strong relationship between the fare price and survivorship.",
   "id": "d3315232fd6b7ffd"
  },
  {
   "metadata": {
    "ExecuteTime": {
     "end_time": "2025-07-14T21:01:51.601923Z",
     "start_time": "2025-07-14T21:01:51.531369Z"
    }
   },
   "cell_type": "code",
   "source": [
    "sex_survived_ct = pd.crosstab(df['Sex'], df['Survived'], normalize='index')\n",
    "sex_survived_ct.plot(kind='bar', stacked=True)\n",
    "plt.ylabel('Percent')\n",
    "plt.xticks([0, 1], ['Female', 'Male'], rotation=0)\n",
    "plt.legend(['Died', 'Survived']) # I have no clue what's going on here... I directly copied and pasted from my cell above and that didn't fix it...\n",
    "plt.title='Survivorship on the Titanic Based on Sex'\n",
    "\n",
    "plt.show();"
   ],
   "id": "2d00dd7f72c70f2c",
   "outputs": [
    {
     "data": {
      "text/plain": [
       "<Figure size 640x480 with 1 Axes>"
      ],
      "image/png": "[encoded data removed]"
     },
     "metadata": {},
     "output_type": "display_data"
    }
   ],
   "execution_count": 37
  },
  {
   "metadata": {},
   "cell_type": "markdown",
   "source": "We can see that the male bar looks like the female bar flipped. Females had a far greater chance of survival than males did, suggesting a very strong relation between survivorship and passenger sex.",
   "id": "bb508b8d8b3b0f77"
  },
  {
   "metadata": {
    "ExecuteTime": {
     "end_time": "2025-07-14T21:01:51.726371Z",
     "start_time": "2025-07-14T21:01:51.654218Z"
    }
   },
   "cell_type": "code",
   "source": [
    "agegroup_survived_ct = pd.crosstab(df['AgeGroup'], df['Survived'], normalize='index')\n",
    "agegroup_survived_ct.plot(kind='bar', stacked=True)\n",
    "plt.xticks([0, 1, 2], ['Minor', 'Adult', 'Senior'], rotation=0)\n",
    "plt.ylabel('Percent')\n",
    "plt.xlabel('Age Group')\n",
    "plt.legend(['Died', 'Survived']) # I have no clue what's going on here... I directly copied and pasted from my cell above and that didn't fix it...\n",
    "plt.title='Survivorship on the Titanic Based on Sex'\n",
    "\n",
    "plt.show();"
   ],
   "id": "d46a2afcae8659fd",
   "outputs": [
    {
     "data": {
      "text/plain": [
       "<Figure size 640x480 with 1 Axes>"
      ],
      "image/png": "[encoded data removed]"
     },
     "metadata": {},
     "output_type": "display_data"
    }
   ],
   "execution_count": 38
  },
  {
   "metadata": {},
   "cell_type": "markdown",
   "source": "We can see that as age increases, survivorship decreases. This implies a strong relationship between age and survivorship.",
   "id": "d808052976d2299a"
  },
  {
   "metadata": {
    "ExecuteTime": {
     "end_time": "2025-07-14T21:01:51.811175Z",
     "start_time": "2025-07-14T21:01:51.746474Z"
    }
   },
   "cell_type": "code",
   "source": [
    "companions_survived_ct = pd.crosstab(df['Companions'], df['Survived'], normalize='index')\n",
    "companions_survived_ct.plot(kind='bar', stacked=True)\n",
    "plt.xticks([0, 1, 2], ['Single', 'Pair', 'Group'], rotation=0)\n",
    "plt.ylabel('Percent')\n",
    "plt.xlabel('Companionship')\n",
    "plt.legend(['Died', 'Survived']) # I have no clue what's going on here... I directly copied and pasted from my cell above and that didn't fix it...\n",
    "plt.title='Survivorship on the Titanic Based on Number of Travel Companions'\n",
    "\n",
    "plt.show()"
   ],
   "id": "c35e42558de55db1",
   "outputs": [
    {
     "data": {
      "text/plain": [
       "<Figure size 640x480 with 1 Axes>"
      ],
      "image/png": "[encoded data removed]"
     },
     "metadata": {},
     "output_type": "display_data"
    }
   ],
   "execution_count": 39
  },
  {
   "metadata": {},
   "cell_type": "markdown",
   "source": "We see the greatest chance of survival from pairs of people, followed by groups, then by single passengers, suggesting that there is a relationship between the number of travel companions and survival, but that there is a limit before travel companions start lowering the chance of survival.",
   "id": "4683a32533c3210b"
  },
  {
   "metadata": {
    "ExecuteTime": {
     "end_time": "2025-07-14T21:01:51.904365Z",
     "start_time": "2025-07-14T21:01:51.834427Z"
    }
   },
   "cell_type": "code",
   "source": [
    "# C is Cherbourg, Q is Queenstown, S is Southampton\n",
    "embarked_survived_ct = pd.crosstab(df['Embarked'], df['Survived'], normalize='index')\n",
    "embarked_survived_ct.plot(kind='bar', stacked=True)\n",
    "plt.xticks([0, 1, 2], ['Cherbourg', \"Queenstown\", \"Southampton\"], rotation=0)\n",
    "plt.ylabel('Percent')\n",
    "plt.xlabel('Port Embarked From')\n",
    "plt.legend(['Died', 'Survived']) # I have no clue what's going on here... I directly copied and pasted from my cell above and that didn't fix it...\n",
    "plt.title='Survivorship on the Titanic Based on Embarked Port'\n",
    "\n",
    "plt.show()"
   ],
   "id": "827c0d939d3ca03d",
   "outputs": [
    {
     "data": {
      "text/plain": [
       "<Figure size 640x480 with 1 Axes>"
      ],
      "image/png": "[encoded data removed]"
     },
     "metadata": {},
     "output_type": "display_data"
    }
   ],
   "execution_count": 40
  },
  {
   "metadata": {},
   "cell_type": "markdown",
   "source": "We can see the greatest chance at survival from people who departed from Cherbourg, the second greatest Queenstown, and the least chance of survival from people who departed from Southampton.",
   "id": "286b0c8342ad44c9"
  },
  {
   "metadata": {
    "ExecuteTime": {
     "end_time": "2025-07-14T21:01:52.007392Z",
     "start_time": "2025-07-14T21:01:51.931984Z"
    }
   },
   "cell_type": "code",
   "source": [
    "#1 is upper, 2 is middle, 3 is lower\n",
    "\n",
    "class_survived_ct = pd.crosstab(df['Pclass'], df['Survived'], normalize='index')\n",
    "class_survived_ct.plot(kind='bar', stacked=True)\n",
    "plt.xticks([0, 1, 2], ['Upper', 'Middle', 'Lower'], rotation=0)\n",
    "plt.ylabel('Percent')\n",
    "plt.xlabel('Passenger Class')\n",
    "plt.legend(['Died', 'Survived']) # I have no clue what's going on here... I directly copied and pasted from my cell above and that didn't fix it...\n",
    "plt.title='Survivorship on the Titanic Based on Passenger Class'\n",
    "\n",
    "plt.show()"
   ],
   "id": "a79b995d3d509996",
   "outputs": [
    {
     "data": {
      "text/plain": [
       "<Figure size 640x480 with 1 Axes>"
      ],
      "image/png": "[encoded data removed]"
     },
     "metadata": {},
     "output_type": "display_data"
    }
   ],
   "execution_count": 41
  },
  {
   "metadata": {
    "ExecuteTime": {
     "end_time": "2025-07-14T21:01:52.040679Z",
     "start_time": "2025-07-14T21:01:52.033559Z"
    }
   },
   "cell_type": "code",
   "source": [
    "# I was trying out alternative methods of representing data. But I don't think we want the majority of who survived, but the group who, if someone was part of, they would be most likely to survive.\n",
    "# Just making some slightly prettier categories\n",
    "'''df.loc[df['Pclass'] == 1, 'Pclass_pretty'] = 'Upper'\n",
    "df.loc[df['Pclass'] == 2, 'Pclass_pretty'] = 'Middle'\n",
    "df.loc[df['Pclass'] == 3, 'Pclass_pretty'] = 'Lower'\n",
    "\n",
    "df.loc[df['Survived'] == 0, 'Survived_pretty'] = 'Died'\n",
    "df.loc[df['Survived'] == 1, 'Survived_pretty'] = 'Survived'\n",
    "px.sunburst(data_frame=df, path=['Survived_pretty', 'Sex', 'Embarked', 'AgeGroup', 'Pclass_pretty', 'Companions', 'FareGroup'], width=960, height=900, labels=['Survival', 'Sex', 'Departure', 'Age', 'Ticket Class', 'Companions', 'Fare value quartile'])\n",
    "''';\n",
    "\n",
    "#I determined the majority of survivors by finding the largest group at the edge of the red in the graphic above. The majority of survivors were single, adult women departing from Southampton, who bought a middle class fare in the second quartile of values (somewhere between 7.91 and 14.45 pounds or dollars)\n",
    "\n",
    "#The majority of the dead, I got with the same process, except searching the blue. With little competition, the majority of the dead were single adult men departing from Southampton, who bought a lower class fare in the cheapest quartile of values (somewhere between 0 and 7.91)"
   ],
   "id": "39bc7248f55a94c6",
   "outputs": [],
   "execution_count": 42
  },
  {
   "metadata": {},
   "cell_type": "markdown",
   "source": [
    "In the above cell, which is commented out, we establish the majority of survivors by finding the largest group at the edge of the red in the graphic above. The majority of survivors were single, adult women departing from Southampton, who bought a middle class fare in the second quartile of values (somewhere between 7.91 and 14.45 pounds or dollars)\n",
    "\n",
    "The majority of the dead, I got with the same process, except searching the blue. With little competition, the majority of the dead were single adult men departing from Southampton, who bought a lower class fare in the cheapest quartile of values (somewhere between 0 and 7.91).\n",
    "\n",
    "If they wanted to make a film to represent someone in the majority of the living or the majority of the dead, these would be the character profiles they should choose.\n",
    "\n",
    "However, I believe the producers want to make a film about the most likely to survive were they in that group. In which case, if we look at all the graphs we have made, it seems that the traits for the most likely to survive protagonist would be an upper class female child who came with one other person (hopefully a guardian), departing from Cherbourg, who bought their ticket in the fourth quartile of ticket prices.\n",
    "\n",
    "The traits our unfortunate protagonist would have in if we wanted to group them in with the least likely to survive would be a lower-class adult male, embarking alone from Southampton, who bought their ticket in the first quartile of ticket prices.\n",
    "\n",
    "Since there was no real passenger which meets our criteria, below is a list of female children who came with a guardian:\n"
   ],
   "id": "f5b126638d7d5e76"
  },
  {
   "metadata": {
    "ExecuteTime": {
     "end_time": "2025-07-14T21:02:44.481471Z",
     "start_time": "2025-07-14T21:02:44.456985Z"
    }
   },
   "cell_type": "code",
   "source": "df.query('Pclass == 1 and Sex == \"female\" and AgeGroup == \"0Child\" and Companions == \"1Pair\" and Embarked == \"C\" and FareGroup == \"Q3\"')",
   "id": "9b9ff7dea5fc1c9",
   "outputs": [
    {
     "data": {
      "text/plain": [
       "     PassengerId  Survived  Pclass  \\\n",
       "307          308         1       1   \n",
       "329          330         1       1   \n",
       "700          701         1       1   \n",
       "\n",
       "                                                  Name     Sex   Age  SibSp  \\\n",
       "307  Penasco y Castellana, Mrs. Victor de Satode (M...  female  17.0      1   \n",
       "329                       Hippach, Miss. Jean Gertrude  female  16.0      0   \n",
       "700  Astor, Mrs. John Jacob (Madeleine Talmadge Force)  female  18.0      1   \n",
       "\n",
       "     Parch    Ticket      Fare    Cabin Embarked Companions AgeGroup FareGroup  \n",
       "307      0  PC 17758  108.9000      C65        C      1Pair   0Child        Q3  \n",
       "329      1    111361   57.9792      B18        C      1Pair   0Child        Q3  \n",
       "700      0  PC 17757  227.5250  C62 C64        C      1Pair   0Child        Q3  "
      ],
      "text/html": [
       "<div>\n",
       "<style scoped>\n",
       "    .dataframe tbody tr th:only-of-type {\n",
       "        vertical-align: middle;\n",
       "    }\n",
       "\n",
       "    .dataframe tbody tr th {\n",
       "        vertical-align: top;\n",
       "    }\n",
       "\n",
       "    .dataframe thead th {\n",
       "        text-align: right;\n",
       "    }\n",
       "</style>\n",
       "<table border=\"1\" class=\"dataframe\">\n",
       "  <thead>\n",
       "    <tr style=\"text-align: right;\">\n",
       "      <th></th>\n",
       "      <th>PassengerId</th>\n",
       "      <th>Survived</th>\n",
       "      <th>Pclass</th>\n",
       "      <th>Name</th>\n",
       "      <th>Sex</th>\n",
       "      <th>Age</th>\n",
       "      <th>SibSp</th>\n",
       "      <th>Parch</th>\n",
       "      <th>Ticket</th>\n",
       "      <th>Fare</th>\n",
       "      <th>Cabin</th>\n",
       "      <th>Embarked</th>\n",
       "      <th>Companions</th>\n",
       "      <th>AgeGroup</th>\n",
       "      <th>FareGroup</th>\n",
       "    </tr>\n",
       "  </thead>\n",
       "  <tbody>\n",
       "    <tr>\n",
       "      <th>307</th>\n",
       "      <td>308</td>\n",
       "      <td>1</td>\n",
       "      <td>1</td>\n",
       "      <td>Penasco y Castellana, Mrs. Victor de Satode (M...</td>\n",
       "      <td>female</td>\n",
       "      <td>17.0</td>\n",
       "      <td>1</td>\n",
       "      <td>0</td>\n",
       "      <td>PC 17758</td>\n",
       "      <td>108.9000</td>\n",
       "      <td>C65</td>\n",
       "      <td>C</td>\n",
       "      <td>1Pair</td>\n",
       "      <td>0Child</td>\n",
       "      <td>Q3</td>\n",
       "    </tr>\n",
       "    <tr>\n",
       "      <th>329</th>\n",
       "      <td>330</td>\n",
       "      <td>1</td>\n",
       "      <td>1</td>\n",
       "      <td>Hippach, Miss. Jean Gertrude</td>\n",
       "      <td>female</td>\n",
       "      <td>16.0</td>\n",
       "      <td>0</td>\n",
       "      <td>1</td>\n",
       "      <td>111361</td>\n",
       "      <td>57.9792</td>\n",
       "      <td>B18</td>\n",
       "      <td>C</td>\n",
       "      <td>1Pair</td>\n",
       "      <td>0Child</td>\n",
       "      <td>Q3</td>\n",
       "    </tr>\n",
       "    <tr>\n",
       "      <th>700</th>\n",
       "      <td>701</td>\n",
       "      <td>1</td>\n",
       "      <td>1</td>\n",
       "      <td>Astor, Mrs. John Jacob (Madeleine Talmadge Force)</td>\n",
       "      <td>female</td>\n",
       "      <td>18.0</td>\n",
       "      <td>1</td>\n",
       "      <td>0</td>\n",
       "      <td>PC 17757</td>\n",
       "      <td>227.5250</td>\n",
       "      <td>C62 C64</td>\n",
       "      <td>C</td>\n",
       "      <td>1Pair</td>\n",
       "      <td>0Child</td>\n",
       "      <td>Q3</td>\n",
       "    </tr>\n",
       "  </tbody>\n",
       "</table>\n",
       "</div>"
      ]
     },
     "execution_count": 48,
     "metadata": {},
     "output_type": "execute_result"
    }
   ],
   "execution_count": 48
  },
  {
   "metadata": {},
   "cell_type": "markdown",
   "source": [
    "From this dataset we see that all of the passengers which fit this narrow criteria survived! Good for them!\n",
    "\n",
    "Below will be a list of the least likely passengers to survive"
   ],
   "id": "994b6b5be16de1c8"
  },
  {
   "metadata": {
    "ExecuteTime": {
     "end_time": "2025-07-14T21:06:04.263790Z",
     "start_time": "2025-07-14T21:06:04.249225Z"
    }
   },
   "cell_type": "code",
   "source": "df.query('Pclass == 3 and Sex == \"male\" and AgeGroup == \"2Senior\" and Companions == \"0Single\" and Embarked == \"S\" and FareGroup == \"Q1\"')",
   "id": "beb2df5e626562e9",
   "outputs": [
    {
     "data": {
      "text/plain": [
       "     PassengerId  Survived  Pclass                 Name   Sex   Age  SibSp  \\\n",
       "851          852         0       3  Svensson, Mr. Johan  male  74.0      0   \n",
       "\n",
       "     Parch  Ticket   Fare Cabin Embarked Companions AgeGroup FareGroup  \n",
       "851      0  347060  7.775   NaN        S    0Single  2Senior        Q1  "
      ],
      "text/html": [
       "<div>\n",
       "<style scoped>\n",
       "    .dataframe tbody tr th:only-of-type {\n",
       "        vertical-align: middle;\n",
       "    }\n",
       "\n",
       "    .dataframe tbody tr th {\n",
       "        vertical-align: top;\n",
       "    }\n",
       "\n",
       "    .dataframe thead th {\n",
       "        text-align: right;\n",
       "    }\n",
       "</style>\n",
       "<table border=\"1\" class=\"dataframe\">\n",
       "  <thead>\n",
       "    <tr style=\"text-align: right;\">\n",
       "      <th></th>\n",
       "      <th>PassengerId</th>\n",
       "      <th>Survived</th>\n",
       "      <th>Pclass</th>\n",
       "      <th>Name</th>\n",
       "      <th>Sex</th>\n",
       "      <th>Age</th>\n",
       "      <th>SibSp</th>\n",
       "      <th>Parch</th>\n",
       "      <th>Ticket</th>\n",
       "      <th>Fare</th>\n",
       "      <th>Cabin</th>\n",
       "      <th>Embarked</th>\n",
       "      <th>Companions</th>\n",
       "      <th>AgeGroup</th>\n",
       "      <th>FareGroup</th>\n",
       "    </tr>\n",
       "  </thead>\n",
       "  <tbody>\n",
       "    <tr>\n",
       "      <th>851</th>\n",
       "      <td>852</td>\n",
       "      <td>0</td>\n",
       "      <td>3</td>\n",
       "      <td>Svensson, Mr. Johan</td>\n",
       "      <td>male</td>\n",
       "      <td>74.0</td>\n",
       "      <td>0</td>\n",
       "      <td>0</td>\n",
       "      <td>347060</td>\n",
       "      <td>7.775</td>\n",
       "      <td>NaN</td>\n",
       "      <td>S</td>\n",
       "      <td>0Single</td>\n",
       "      <td>2Senior</td>\n",
       "      <td>Q1</td>\n",
       "    </tr>\n",
       "  </tbody>\n",
       "</table>\n",
       "</div>"
      ]
     },
     "execution_count": 49,
     "metadata": {},
     "output_type": "execute_result"
    }
   ],
   "execution_count": 49
  },
  {
   "metadata": {},
   "cell_type": "markdown",
   "source": "From this dataset we see that the only man who met all these criteria died.",
   "id": "e88156960cd46436"
  },
  {
   "metadata": {},
   "cell_type": "markdown",
   "source": [
    "An interesting fact about Mr. Johan Svensson is that he was the oldest person aboard the ship. Sensing he was going to die soon, he wanted to spend what little time he had left with his family in America, but that didn't pan out. :( https://www.encyclopedia-titanica.org/titanic-victim/johan-svensson.html I could not find another free resource that mentioned Johan Svensson Sr. most sources were about the 19 year-old sailor also aboard the Titanic.\n",
    "\n",
    "An interesting fact about Mrs. John Jacob Astor is that she married a number of times, and had trouble doing since after her first marriage, due to the social stigmas of the time. Priests refused to marry her to another man. https://www.newyorksocialdiary.com/the-life-in-the-house-and-the-house-in-the-life-of-mrs-astor/"
   ],
   "id": "1bc44b65cca9c629"
  }
 ],
 "metadata": {
  "kernelspec": {
   "display_name": "Python 3 (ipykernel)",
   "language": "python",
   "name": "python3"
  },
  "language_info": {
   "codemirror_mode": {
    "name": "ipython",
    "version": 3
   },
   "file_extension": ".py",
   "mimetype": "text/x-python",
   "name": "python",
   "nbconvert_exporter": "python",
   "pygments_lexer": "ipython3",
   "version": "3.11.4"
  }
 },
 "nbformat": 4,
 "nbformat_minor": 5
}
