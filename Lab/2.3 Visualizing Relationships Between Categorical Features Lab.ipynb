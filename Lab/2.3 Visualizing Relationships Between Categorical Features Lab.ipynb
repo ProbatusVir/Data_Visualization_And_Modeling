{
 "cells": [
  {
   "cell_type": "markdown",
   "id": "03b012f6-6644-4c05-8269-586b4dc6b8fc",
   "metadata": {},
   "source": [
    "# Lab Instructions\n",
    "\n",
    "You have been hired by James Cameron to create profiles of two characters for a reboot of the Titanic Movie: one that is most likely to survive the sinking and one that is least likely to survive.  Mr. Cameron wants this reboot to be as historically accurate as possible, so your profile of each character should be backed up with data and visualizations.\n",
    "\n",
    "Each character profile should include information on their:\n",
    "* Age, fare\n",
    "* Sex\n",
    "* Passenger class\n",
    "* Travel companions (including both parents/children and siblings/spouse)\n",
    "* Port of departure\n",
    "\n",
    "For quantitative features like `Age` and `Fare`, you will need to use the `.loc` method we learned in class (or something similar) to place individuals in categories.  How you choose to do this is up to you, but make sure you explain your reasoning.\n",
    "\n",
    "You should include at least one visualization for each element of the character profile (age, sex, passenger class, etc.) as evidence.\n",
    "\n",
    "After you have developed your two character profiles, use your Pandas data wrangling skills to identify at least one real passenger in the dataset that fits each profile.  Print out the names of these individuals.  Look them up in [Encyclopeida Titanica](https://www.encyclopedia-titanica.org/) (or a similar resource).  \n",
    "\n",
    "Tell Mr. Cameron at least one thing about the real passengers who fit your two character profiles that you learned from an external resource.  You need one interesting fact about a person who fits the profile of \"most likely to survive\" and one interesting fact about a person who fits the profile of \"least likely to surivive\".  \n",
    "\n"
   ]
  },
  {
   "cell_type": "code",
   "id": "3e525c9c-d0f3-48af-b0d9-6f7c6dfdb49d",
   "metadata": {
    "ExecuteTime": {
     "end_time": "2025-07-09T18:50:30.836200Z",
     "start_time": "2025-07-09T18:50:30.828133Z"
    }
   },
   "source": [
    "import pandas as pd\n",
    "import seaborn as sns\n",
    "import matplotlib.pyplot as plt\n",
    "import plotly.express as px\n",
    "df = pd.read_csv('titanic_passengers.csv');"
   ],
   "outputs": [],
   "execution_count": 312
  },
  {
   "metadata": {},
   "cell_type": "markdown",
   "source": [
    "\n",
    "## Concerned categories:\n",
    "* Age -> make into child (0-9), adolescent (10-19), adult(> 19) as defined by WHO\n",
    "* Fare -> make into 4 categories, just use the percentiles...\n",
    "* PClass -> 1 is upper, 2 is middle, 3 is lower\n",
    "* Companions -> Parch + SibSp\n",
    "* Embarked -> C is Cherbourg, Q is Queenstown, S is Southampton"
   ],
   "id": "658de92b5b116213"
  },
  {
   "metadata": {},
   "cell_type": "markdown",
   "source": "We will convert the Parent/Child category to Single, Pair, and Group, because there are undeniable social consequences to these groupings. A person on their own has nobody to depend on. A pair likely has a very strong bond to be there together, and so will probably act to help each other. A group is more complex because there are many group dynamics to be considered; there is strength in numbers yes, but also hesitation and uncertain, such as diffusion of responsibility, to name one.",
   "id": "d4078b1f3d0db9"
  },
  {
   "metadata": {
    "ExecuteTime": {
     "end_time": "2025-07-09T18:50:30.859702Z",
     "start_time": "2025-07-09T18:50:30.854701Z"
    }
   },
   "cell_type": "code",
   "source": [
    "\n",
    "df.loc[df['Parch'] + df['SibSp'] == 0, 'Companions'] = 'Single'\n",
    "df.loc[df['Parch'] + df['SibSp'] == 1, 'Companions'] = 'Pair'\n",
    "df.loc[df['Parch'] + df['SibSp'] >  1, 'Companions'] = 'Group'"
   ],
   "id": "4de7b8b15d65d0a",
   "outputs": [],
   "execution_count": 313
  },
  {
   "metadata": {},
   "cell_type": "markdown",
   "source": "We will split these categories into groups of child, teen, and adult, because these are roughly how we view dependency in our society. I don't see much difference, personally, in the level of dependence between infants, toddlers, and children in the context of Titanic, because they were all likely equally hopeless. Whereas a teenager has the size, speed, and strength required to help themself and perhaps another. We will assume all unlisted ages are adults, because it seems the most accepted practice is to take the median age of the group and apply that. However, I do not wish to alter the data outside of the rows that I create, so I will let the ages be NaN to indicate that the data does not actually exist, but make those records in my own group be the same group as the median age. Since the median age is 28, we will make the default AgeGroup 'Adult'",
   "id": "44b80ca7cca611ab"
  },
  {
   "metadata": {
    "ExecuteTime": {
     "end_time": "2025-07-09T18:50:30.874787Z",
     "start_time": "2025-07-09T18:50:30.870704Z"
    }
   },
   "cell_type": "code",
   "source": [
    "df.loc[df['Age'] >= 19, 'AgeGroup'] = 'Adult'   # adult\n",
    "df.loc[df['Age'] < 19, 'AgeGroup'] = 'Teen'     # adolescent\n",
    "df.loc[df['Age'] <=  9, 'AgeGroup'] = 'Child'   # pre-adolescent\n",
    "df['AgeGroup'] = df['AgeGroup'].fillna('Adult')                 # Default (adult)"
   ],
   "id": "95c1b289450db839",
   "outputs": [],
   "execution_count": 314
  },
  {
   "metadata": {},
   "cell_type": "markdown",
   "source": "I don't see much value in categorizing the fare when the passenger class data is available, so I am categorizing the fare in the most 'fair' way, such that each group has the same number of people.",
   "id": "5bf5f503ff871af"
  },
  {
   "metadata": {
    "ExecuteTime": {
     "end_time": "2025-07-09T18:50:31.064527Z",
     "start_time": "2025-07-09T18:50:30.882919Z"
    }
   },
   "cell_type": "code",
   "source": [
    "df.loc[df['Fare'] <= df['Fare'].quantile(1.00), 'FareGroup'] = 'Q4'\n",
    "df.loc[df['Fare'] <= df['Fare'].quantile(0.75), 'FareGroup'] = 'Q3'\n",
    "df.loc[df['Fare'] <= df['Fare'].quantile(0.50), 'FareGroup'] = 'Q2'\n",
    "df.loc[df['Fare'] <= df['Fare'].quantile(0.25), 'FareGroup'] = 'Q1'\n",
    "\n",
    "# Why not put this here?\n",
    "df.loc[df['Pclass'] == 1, 'Pclass_pretty'] = 'Upper'\n",
    "df.loc[df['Pclass'] == 2, 'Pclass_pretty'] = 'Middle'\n",
    "df.loc[df['Pclass'] == 3, 'Pclass_pretty'] = 'Lower'\n",
    "\n",
    "df.loc[df['Survived'] == 0, 'Survived_pretty'] = 'Died'\n",
    "df.loc[df['Survived'] == 1, 'Survived_pretty'] = 'Survived'\n"
   ],
   "id": "41acea6b4556cef8",
   "outputs": [],
   "execution_count": 315
  },
  {
   "metadata": {},
   "cell_type": "markdown",
   "source": "Lastly, we will populate the missing data for 'Embarked' with whichever port was most popular because it seems like most people will fill blank data with data that best represents the whole.",
   "id": "69efd62e63e713ba"
  },
  {
   "metadata": {
    "ExecuteTime": {
     "end_time": "2025-07-09T18:50:31.076308Z",
     "start_time": "2025-07-09T18:50:31.072336Z"
    }
   },
   "cell_type": "code",
   "source": [
    "most_common_port = df['Embarked'].mode()\n",
    "df['Embarked'] = df['Embarked'].fillna(most_common_port[0])"
   ],
   "id": "3e674676bae02a7d",
   "outputs": [],
   "execution_count": 316
  },
  {
   "cell_type": "code",
   "id": "4daa83c3-5fcf-4885-a1a4-ed36e072af9f",
   "metadata": {
    "ExecuteTime": {
     "end_time": "2025-07-09T18:50:31.135465Z",
     "start_time": "2025-07-09T18:50:31.083678Z"
    }
   },
   "source": [
    "sns.histplot(data=df, x='FareGroup', hue='Survived', palette='pastel', element='step')\n",
    "#plt.legend(['Survived', 'Died'])\n",
    "plt.title = \"Survivorship on the Titanic Based on Fare\"\n",
    "plt.xlabel('Ticket Price Quartile')\n",
    "plt.xticks([0, 2, 3, 1], ['Q1', 'Q2', 'Q3', 'Q4'])\n",
    "plt.show() # I have no clue why it's not showing the title..."
   ],
   "outputs": [
    {
     "data": {
      "text/plain": [
       "<Figure size 640x480 with 1 Axes>"
      ],
      "image/png": "[encoded data removed]"
     },
     "metadata": {},
     "output_type": "display_data"
    }
   ],
   "execution_count": 317
  },
  {
   "metadata": {
    "ExecuteTime": {
     "end_time": "2025-07-09T18:50:31.197058Z",
     "start_time": "2025-07-09T18:50:31.144261Z"
    }
   },
   "cell_type": "code",
   "source": [
    "sns.histplot(data=df, x=df['Sex'], hue=df['Survived'], multiple='stack')\n",
    "#plt.legend(['Survived', 'Died']) # I have no clue what's going on here... I directly copied and pasted from my cell above and that didn't fix it...\n",
    "plt.title='Survivorship on the Titanic Based on Sex'\n",
    "\n",
    "plt.show();"
   ],
   "id": "d9cc5463d7976b8",
   "outputs": [
    {
     "data": {
      "text/plain": [
       "<Figure size 640x480 with 1 Axes>"
      ],
      "image/png": "[encoded data removed]"
     },
     "metadata": {},
     "output_type": "display_data"
    }
   ],
   "execution_count": 318
  },
  {
   "metadata": {
    "ExecuteTime": {
     "end_time": "2025-07-09T19:01:47.707044Z",
     "start_time": "2025-07-09T19:01:47.701198Z"
    }
   },
   "cell_type": "code",
   "source": "print(f\"{df['Fare'].quantile(.25)}-{df['Fare'].quantile(.50)}\")",
   "id": "d46a2afcae8659fd",
   "outputs": [
    {
     "name": "stdout",
     "output_type": "stream",
     "text": [
      "7.9104-14.4542\n",
      "0.0\n"
     ]
    }
   ],
   "execution_count": 327
  },
  {
   "metadata": {
    "ExecuteTime": {
     "end_time": "2025-07-09T18:50:31.220995Z",
     "start_time": "2025-07-09T18:50:31.217675Z"
    }
   },
   "cell_type": "code",
   "source": "",
   "id": "d035254475da8b3",
   "outputs": [],
   "execution_count": null
  },
  {
   "metadata": {
    "ExecuteTime": {
     "end_time": "2025-07-09T19:06:09.133781Z",
     "start_time": "2025-07-09T19:06:08.952536Z"
    }
   },
   "cell_type": "code",
   "source": "px.sunburst(data_frame=df, path=['Survived_pretty', 'Sex', 'Embarked', 'AgeGroup', 'Pclass_pretty', 'Companions', 'FareGroup'], width=960, height=900, labels=['Survival', 'Sex', 'Departure', 'Age', 'Ticket Class', 'Companions', 'Fare value quartile'])",
   "id": "39bc7248f55a94c6",
   "outputs": [
    {
     "data": {
      "application/vnd.plotly.v1+json": {
       "data": [
        {
         "branchvalues": "total",
         "domain": {
          "x": [
           0.0,
           1.0
          ],
          "y": [
           0.0,
           1.0
          ]
         },
         "hovertemplate": "labels=%{label}<br>count=%{value}<br>parent=%{parent}<br>id=%{id}<extra></extra>",
         "ids": [
          "Died/male/S/Adult/Lower/Pair/Q1",
          "Survived/female/C/Adult/Upper/Pair/Q4",
          "Survived/female/S/Adult/Lower/Single/Q2",
          "Survived/female/S/Adult/Upper/Pair/Q4",
          "Died/male/S/Adult/Lower/Single/Q2",
          "Died/male/Q/Adult/Lower/Single/Q2",
          "Died/male/S/Adult/Upper/Single/Q4",
          "Died/male/S/Child/Lower/Group/Q3",
          "Survived/female/S/Adult/Lower/Group/Q2",
          "Survived/female/C/Teen/Middle/Pair/Q3",
          "Survived/female/S/Child/Lower/Group/Q3",
          "Survived/female/S/Adult/Upper/Single/Q3",
          "Died/male/S/Adult/Lower/Group/Q4",
          "Died/female/S/Teen/Lower/Single/Q1",
          "Survived/female/S/Adult/Middle/Single/Q3",
          "Died/male/Q/Child/Lower/Group/Q3",
          "Survived/male/S/Adult/Middle/Single/Q2",
          "Died/female/S/Adult/Lower/Pair/Q3",
          "Survived/female/C/Adult/Lower/Single/Q1",
          "Died/male/S/Adult/Middle/Single/Q3",
          "Survived/female/Q/Teen/Lower/Single/Q2",
          "Survived/male/S/Adult/Upper/Single/Q4",
          "Died/female/S/Child/Lower/Group/Q3",
          "Survived/female/S/Adult/Lower/Group/Q4",
          "Died/male/C/Adult/Lower/Single/Q1",
          "Died/male/S/Adult/Upper/Group/Q4",
          "Survived/female/Q/Adult/Lower/Single/Q1",
          "Died/male/S/Adult/Lower/Single/Q1",
          "Died/male/C/Adult/Upper/Single/Q3",
          "Died/male/S/Adult/Middle/Single/Q2",
          "Died/male/C/Adult/Upper/Pair/Q4",
          "Died/male/S/Adult/Upper/Pair/Q4",
          "Survived/male/C/Adult/Lower/Single/Q1",
          "Died/female/S/Teen/Lower/Group/Q3",
          "Survived/female/C/Teen/Lower/Pair/Q2",
          "Died/female/S/Adult/Lower/Pair/Q2",
          "Died/female/S/Adult/Middle/Pair/Q3",
          "Survived/female/C/Child/Middle/Group/Q4",
          "Died/male/Q/Adult/Lower/Pair/Q3",
          "Died/male/C/Adult/Lower/Group/Q3",
          "Died/female/S/Teen/Lower/Pair/Q3",
          "Died/male/S/Child/Lower/Group/Q4",
          "Survived/female/S/Adult/Middle/Pair/Q3",
          "Survived/female/S/Adult/Middle/Single/Q2",
          "Survived/female/S/Child/Middle/Group/Q3",
          "Died/male/S/Teen/Lower/Group/Q4",
          "Survived/female/S/Adult/Upper/Single/Q4",
          "Survived/male/C/Adult/Lower/Group/Q3",
          "Survived/female/S/Teen/Lower/Group/Q2",
          "Died/male/S/Adult/Lower/Group/Q2",
          "Died/female/S/Teen/Lower/Group/Q4",
          "Died/male/S/Adult/Middle/Single/Q4",
          "Died/male/C/Adult/Lower/Pair/Q2",
          "Survived/male/S/Adult/Lower/Single/Q4",
          "Survived/male/S/Child/Middle/Group/Q3",
          "Survived/male/S/Adult/Lower/Single/Q2",
          "Survived/female/S/Teen/Middle/Single/Q2",
          "Survived/female/S/Adult/Lower/Group/Q3",
          "Survived/female/S/Adult/Upper/Group/Q4",
          "Died/male/S/Adult/Lower/Group/Q3",
          "Died/male/C/Adult/Upper/Single/Q4",
          "Survived/male/C/Adult/Upper/Pair/Q4",
          "Died/male/S/Adult/Middle/Pair/Q3",
          "Died/female/S/Adult/Lower/Single/Q1",
          "Survived/female/S/Adult/Lower/Single/Q1",
          "Survived/male/S/Adult/Lower/Single/Q1",
          "Survived/female/Q/Adult/Lower/Pair/Q3",
          "Died/female/C/Teen/Lower/Pair/Q2",
          "Died/female/C/Teen/Lower/Single/Q3",
          "Died/male/Q/Adult/Lower/Single/Q1",
          "Died/female/S/Child/Lower/Group/Q4",
          "Died/male/S/Adult/Middle/Group/Q4",
          "Died/male/C/Adult/Middle/Pair/Q3",
          "Survived/male/C/Teen/Lower/Pair/Q2",
          "Survived/female/C/Adult/Lower/Group/Q3",
          "Died/male/C/Adult/Middle/Single/Q3",
          "Survived/female/S/Adult/Upper/Group/Q3",
          "Died/male/S/Teen/Lower/Single/Q2",
          "Died/female/C/Adult/Lower/Group/Q3",
          "Survived/female/S/Adult/Lower/Pair/Q3",
          "Died/male/S/Teen/Middle/Single/Q2",
          "Died/male/S/Adult/Middle/Group/Q3",
          "Survived/female/Q/Teen/Lower/Single/Q1",
          "Died/male/S/Adult/Lower/Pair/Q3",
          "Survived/male/S/Child/Lower/Group/Q3",
          "Died/female/S/Adult/Lower/Group/Q3",
          "Died/male/S/Adult/Upper/Single/Q3",
          "Died/male/S/Adult/Lower/Single/Q4",
          "Survived/female/S/Child/Lower/Group/Q2",
          "Died/male/S/Teen/Lower/Group/Q1",
          "Died/female/C/Adult/Upper/Single/Q3",
          "Died/female/S/Adult/Lower/Group/Q4",
          "Survived/male/S/Child/Middle/Group/Q4",
          "Survived/male/S/Adult/Upper/Single/Q3",
          "Died/male/Q/Adult/Lower/Group/Q3",
          "Survived/female/S/Adult/Lower/Pair/Q1",
          "Survived/female/C/Adult/Upper/Single/Q3",
          "Survived/female/C/Adult/Upper/Single/Q4",
          "Died/male/S/Adult/Lower/Pair/Q2",
          "Died/female/S/Adult/Middle/Single/Q2",
          "Survived/male/S/Teen/Lower/Single/Q2",
          "Died/female/S/Child/Lower/Pair/Q2",
          "Survived/male/C/Adult/Lower/Single/Q3",
          "Survived/male/C/Adult/Upper/Single/Q3",
          "Died/male/Q/Adult/Lower/Pair/Q1",
          "Survived/male/S/Adult/Upper/Pair/Q4",
          "Survived/female/S/Child/Lower/Group/Q4",
          "Died/female/C/Adult/Lower/Pair/Q2",
          "Died/male/Q/Adult/Upper/Group/Q4",
          "Survived/female/S/Adult/Middle/Group/Q3",
          "Survived/male/S/Adult/Upper/Group/Q4",
          "Died/female/S/Adult/Lower/Group/Q2",
          "Survived/male/S/Child/Lower/Group/Q4",
          "Died/male/S/Adult/Upper/Single/Q1",
          "Died/female/Q/Adult/Lower/Single/Q1",
          "Survived/male/S/Adult/Lower/Pair/Q1",
          "Died/male/C/Adult/Upper/Pair/Q3",
          "Died/male/S/Adult/Middle/Single/Q1",
          "Died/male/C/Adult/Lower/Single/Q2",
          "Died/male/C/Adult/Middle/Single/Q2",
          "Died/female/S/Adult/Lower/Single/Q2",
          "Died/female/S/Child/Upper/Group/Q4",
          "Survived/male/Q/Adult/Lower/Group/Q3",
          "Survived/female/Q/Adult/Middle/Single/Q2",
          "Survived/male/S/Child/Upper/Group/Q4",
          "Survived/female/C/Teen/Upper/Pair/Q4",
          "Survived/female/C/Teen/Upper/Group/Q4",
          "Died/female/S/Adult/Middle/Group/Q3",
          "Survived/female/C/Adult/Upper/Group/Q4",
          "Survived/female/Q/Adult/Lower/Group/Q3",
          "Died/male/S/Teen/Lower/Group/Q3",
          "Died/male/C/Teen/Lower/Group/Q1",
          "Died/male/S/Teen/Lower/Pair/Q1",
          "Died/male/C/Adult/Upper/Group/Q4",
          "Survived/female/C/Child/Lower/Group/Q3",
          "Died/male/S/Teen/Middle/Single/Q4",
          "Survived/female/C/Teen/Middle/Single/Q2",
          "Survived/female/Q/Adult/Upper/Pair/Q4",
          "Survived/female/S/Adult/Middle/Group/Q4",
          "Survived/female/S/Teen/Middle/Group/Q2",
          "Died/male/S/Teen/Lower/Single/Q1",
          "Survived/female/S/Teen/Upper/Group/Q4",
          "Survived/female/S/Teen/Middle/Pair/Q3",
          "Survived/female/C/Adult/Middle/Single/Q2",
          "Survived/female/S/Child/Lower/Pair/Q2",
          "Died/male/C/Adult/Lower/Single/Q3",
          "Died/male/S/Adult/Lower/Single/Q3",
          "Died/female/S/Adult/Upper/Group/Q4",
          "Survived/female/S/Teen/Upper/Single/Q4",
          "Died/male/C/Teen/Upper/Pair/Q4",
          "Survived/male/Q/Adult/Lower/Single/Q1",
          "Died/male/Q/Adult/Lower/Single/Q3",
          "Died/male/S/Adult/Middle/Group/Q2",
          "Survived/male/S/Adult/Middle/Pair/Q3",
          "Survived/male/C/Adult/Middle/Single/Q2",
          "Survived/male/C/Teen/Upper/Group/Q4",
          "Died/female/C/Adult/Lower/Pair/Q3",
          "Survived/male/C/Adult/Upper/Group/Q4",
          "Died/female/Q/Adult/Lower/Group/Q1",
          "Survived/female/S/Adult/Middle/Single/Q4",
          "Survived/female/C/Adult/Middle/Group/Q4",
          "Survived/female/S/Child/Middle/Group/Q4",
          "Died/male/Q/Adult/Middle/Single/Q2",
          "Survived/male/C/Adult/Upper/Single/Q4",
          "Died/female/Q/Teen/Lower/Single/Q1",
          "Died/female/Q/Adult/Lower/Group/Q3",
          "Survived/male/S/Adult/Lower/Pair/Q2",
          "Survived/female/S/Teen/Lower/Single/Q2",
          "Died/female/Q/Adult/Lower/Single/Q2",
          "Died/male/C/Adult/Middle/Group/Q4",
          "Survived/female/S/Teen/Upper/Pair/Q4",
          "Survived/female/C/Child/Lower/Pair/Q2",
          "Survived/female/S/Child/Middle/Pair/Q4",
          "Died/male/C/Teen/Lower/Single/Q3",
          "Survived/male/S/Child/Lower/Pair/Q2",
          "Survived/female/S/Child/Lower/Single/Q2",
          "Survived/female/C/Teen/Lower/Single/Q1",
          "Survived/female/S/Teen/Lower/Single/Q1",
          "Died/male/S/Teen/Middle/Single/Q3",
          "Survived/male/S/Teen/Upper/Group/Q4",
          "Survived/male/C/Child/Lower/Pair/Q2",
          "Survived/female/S/Adult/Lower/Pair/Q2",
          "Survived/male/C/Child/Middle/Group/Q4",
          "Died/male/S/Adult/Middle/Pair/Q4",
          "Died/female/C/Child/Lower/Group/Q3",
          "Survived/female/S/Teen/Lower/Pair/Q2",
          "Died/male/S/Adult/Middle/Pair/Q2",
          "Survived/female/C/Adult/Middle/Pair/Q2",
          "Survived/male/S/Child/Lower/Group/Q2",
          "Survived/female/C/Adult/Middle/Pair/Q3",
          "Died/male/S/Adult/Lower/Pair",
          "Survived/female/C/Adult/Upper/Pair",
          "Survived/female/S/Adult/Lower/Single",
          "Survived/female/S/Adult/Upper/Pair",
          "Died/male/S/Adult/Lower/Single",
          "Died/male/Q/Adult/Lower/Single",
          "Died/male/S/Adult/Upper/Single",
          "Died/male/S/Child/Lower/Group",
          "Survived/female/S/Adult/Lower/Group",
          "Survived/female/C/Teen/Middle/Pair",
          "Survived/female/S/Child/Lower/Group",
          "Survived/female/S/Adult/Upper/Single",
          "Died/male/S/Adult/Lower/Group",
          "Died/female/S/Teen/Lower/Single",
          "Survived/female/S/Adult/Middle/Single",
          "Died/male/Q/Child/Lower/Group",
          "Survived/male/S/Adult/Middle/Single",
          "Died/female/S/Adult/Lower/Pair",
          "Survived/female/C/Adult/Lower/Single",
          "Died/male/S/Adult/Middle/Single",
          "Survived/female/Q/Teen/Lower/Single",
          "Survived/male/S/Adult/Upper/Single",
          "Died/female/S/Child/Lower/Group",
          "Died/male/C/Adult/Lower/Single",
          "Died/male/S/Adult/Upper/Group",
          "Survived/female/Q/Adult/Lower/Single",
          "Died/male/C/Adult/Upper/Single",
          "Died/male/C/Adult/Upper/Pair",
          "Died/male/S/Adult/Upper/Pair",
          "Survived/male/C/Adult/Lower/Single",
          "Died/female/S/Teen/Lower/Group",
          "Survived/female/C/Teen/Lower/Pair",
          "Died/female/S/Adult/Middle/Pair",
          "Survived/female/C/Child/Middle/Group",
          "Died/male/Q/Adult/Lower/Pair",
          "Died/male/C/Adult/Lower/Group",
          "Died/female/S/Teen/Lower/Pair",
          "Survived/female/S/Adult/Middle/Pair",
          "Survived/female/S/Child/Middle/Group",
          "Died/male/S/Teen/Lower/Group",
          "Survived/male/C/Adult/Lower/Group",
          "Survived/female/S/Teen/Lower/Group",
          "Died/male/C/Adult/Lower/Pair",
          "Survived/male/S/Adult/Lower/Single",
          "Survived/male/S/Child/Middle/Group",
          "Survived/female/S/Teen/Middle/Single",
          "Survived/female/S/Adult/Upper/Group",
          "Survived/male/C/Adult/Upper/Pair",
          "Died/male/S/Adult/Middle/Pair",
          "Died/female/S/Adult/Lower/Single",
          "Survived/female/Q/Adult/Lower/Pair",
          "Died/female/C/Teen/Lower/Pair",
          "Died/female/C/Teen/Lower/Single",
          "Died/male/S/Adult/Middle/Group",
          "Died/male/C/Adult/Middle/Pair",
          "Survived/male/C/Teen/Lower/Pair",
          "Survived/female/C/Adult/Lower/Group",
          "Died/male/C/Adult/Middle/Single",
          "Died/male/S/Teen/Lower/Single",
          "Died/female/C/Adult/Lower/Group",
          "Survived/female/S/Adult/Lower/Pair",
          "Died/male/S/Teen/Middle/Single",
          "Survived/male/S/Child/Lower/Group",
          "Died/female/S/Adult/Lower/Group",
          "Died/female/C/Adult/Upper/Single",
          "Died/male/Q/Adult/Lower/Group",
          "Survived/female/C/Adult/Upper/Single",
          "Died/female/S/Adult/Middle/Single",
          "Survived/male/S/Teen/Lower/Single",
          "Died/female/S/Child/Lower/Pair",
          "Survived/male/C/Adult/Upper/Single",
          "Survived/male/S/Adult/Upper/Pair",
          "Died/female/C/Adult/Lower/Pair",
          "Died/male/Q/Adult/Upper/Group",
          "Survived/female/S/Adult/Middle/Group",
          "Survived/male/S/Adult/Upper/Group",
          "Died/female/Q/Adult/Lower/Single",
          "Survived/male/S/Adult/Lower/Pair",
          "Died/female/S/Child/Upper/Group",
          "Survived/male/Q/Adult/Lower/Group",
          "Survived/female/Q/Adult/Middle/Single",
          "Survived/male/S/Child/Upper/Group",
          "Survived/female/C/Teen/Upper/Pair",
          "Survived/female/C/Teen/Upper/Group",
          "Died/female/S/Adult/Middle/Group",
          "Survived/female/C/Adult/Upper/Group",
          "Survived/female/Q/Adult/Lower/Group",
          "Died/male/C/Teen/Lower/Group",
          "Died/male/S/Teen/Lower/Pair",
          "Died/male/C/Adult/Upper/Group",
          "Survived/female/C/Child/Lower/Group",
          "Survived/female/C/Teen/Middle/Single",
          "Survived/female/Q/Adult/Upper/Pair",
          "Survived/female/S/Teen/Middle/Group",
          "Survived/female/S/Teen/Upper/Group",
          "Survived/female/S/Teen/Middle/Pair",
          "Survived/female/C/Adult/Middle/Single",
          "Survived/female/S/Child/Lower/Pair",
          "Died/female/S/Adult/Upper/Group",
          "Survived/female/S/Teen/Upper/Single",
          "Died/male/C/Teen/Upper/Pair",
          "Survived/male/Q/Adult/Lower/Single",
          "Survived/male/S/Adult/Middle/Pair",
          "Survived/male/C/Adult/Middle/Single",
          "Survived/male/C/Teen/Upper/Group",
          "Survived/male/C/Adult/Upper/Group",
          "Died/female/Q/Adult/Lower/Group",
          "Survived/female/C/Adult/Middle/Group",
          "Died/male/Q/Adult/Middle/Single",
          "Died/female/Q/Teen/Lower/Single",
          "Survived/female/S/Teen/Lower/Single",
          "Died/male/C/Adult/Middle/Group",
          "Survived/female/S/Teen/Upper/Pair",
          "Survived/female/C/Child/Lower/Pair",
          "Survived/female/S/Child/Middle/Pair",
          "Died/male/C/Teen/Lower/Single",
          "Survived/male/S/Child/Lower/Pair",
          "Survived/female/S/Child/Lower/Single",
          "Survived/female/C/Teen/Lower/Single",
          "Survived/male/S/Teen/Upper/Group",
          "Survived/male/C/Child/Lower/Pair",
          "Survived/male/C/Child/Middle/Group",
          "Died/female/C/Child/Lower/Group",
          "Survived/female/S/Teen/Lower/Pair",
          "Survived/female/C/Adult/Middle/Pair",
          "Died/male/S/Adult/Lower",
          "Survived/female/C/Adult/Upper",
          "Survived/female/S/Adult/Lower",
          "Survived/female/S/Adult/Upper",
          "Died/male/Q/Adult/Lower",
          "Died/male/S/Adult/Upper",
          "Died/male/S/Child/Lower",
          "Survived/female/C/Teen/Middle",
          "Survived/female/S/Child/Lower",
          "Died/female/S/Teen/Lower",
          "Survived/female/S/Adult/Middle",
          "Died/male/Q/Child/Lower",
          "Survived/male/S/Adult/Middle",
          "Died/female/S/Adult/Lower",
          "Survived/female/C/Adult/Lower",
          "Died/male/S/Adult/Middle",
          "Survived/female/Q/Teen/Lower",
          "Survived/male/S/Adult/Upper",
          "Died/female/S/Child/Lower",
          "Died/male/C/Adult/Lower",
          "Survived/female/Q/Adult/Lower",
          "Died/male/C/Adult/Upper",
          "Survived/male/C/Adult/Lower",
          "Survived/female/C/Teen/Lower",
          "Died/female/S/Adult/Middle",
          "Survived/female/C/Child/Middle",
          "Survived/female/S/Child/Middle",
          "Died/male/S/Teen/Lower",
          "Survived/female/S/Teen/Lower",
          "Survived/male/S/Adult/Lower",
          "Survived/male/S/Child/Middle",
          "Survived/female/S/Teen/Middle",
          "Survived/male/C/Adult/Upper",
          "Died/female/C/Teen/Lower",
          "Died/male/C/Adult/Middle",
          "Survived/male/C/Teen/Lower",
          "Died/female/C/Adult/Lower",
          "Died/male/S/Teen/Middle",
          "Survived/male/S/Child/Lower",
          "Died/female/C/Adult/Upper",
          "Survived/male/S/Teen/Lower",
          "Died/male/Q/Adult/Upper",
          "Died/female/Q/Adult/Lower",
          "Died/female/S/Child/Upper",
          "Survived/male/Q/Adult/Lower",
          "Survived/female/Q/Adult/Middle",
          "Survived/male/S/Child/Upper",
          "Survived/female/C/Teen/Upper",
          "Died/male/C/Teen/Lower",
          "Survived/female/C/Child/Lower",
          "Survived/female/Q/Adult/Upper",
          "Survived/female/S/Teen/Upper",
          "Survived/female/C/Adult/Middle",
          "Died/female/S/Adult/Upper",
          "Died/male/C/Teen/Upper",
          "Survived/male/C/Adult/Middle",
          "Survived/male/C/Teen/Upper",
          "Died/male/Q/Adult/Middle",
          "Died/female/Q/Teen/Lower",
          "Survived/male/S/Teen/Upper",
          "Survived/male/C/Child/Lower",
          "Survived/male/C/Child/Middle",
          "Died/female/C/Child/Lower",
          "Died/male/S/Adult",
          "Survived/female/C/Adult",
          "Survived/female/S/Adult",
          "Died/male/Q/Adult",
          "Died/male/S/Child",
          "Survived/female/C/Teen",
          "Survived/female/S/Child",
          "Died/female/S/Teen",
          "Died/male/Q/Child",
          "Survived/male/S/Adult",
          "Died/female/S/Adult",
          "Survived/female/Q/Teen",
          "Died/female/S/Child",
          "Died/male/C/Adult",
          "Survived/female/Q/Adult",
          "Survived/male/C/Adult",
          "Survived/female/C/Child",
          "Died/male/S/Teen",
          "Survived/female/S/Teen",
          "Survived/male/S/Child",
          "Died/female/C/Teen",
          "Survived/male/C/Teen",
          "Died/female/C/Adult",
          "Survived/male/S/Teen",
          "Died/female/Q/Adult",
          "Survived/male/Q/Adult",
          "Died/male/C/Teen",
          "Died/female/Q/Teen",
          "Survived/male/C/Child",
          "Died/female/C/Child",
          "Died/male/S",
          "Survived/female/C",
          "Survived/female/S",
          "Died/male/Q",
          "Died/female/S",
          "Survived/male/S",
          "Survived/female/Q",
          "Died/male/C",
          "Survived/male/C",
          "Died/female/C",
          "Died/female/Q",
          "Survived/male/Q",
          "Died/male",
          "Survived/female",
          "Died/female",
          "Survived/male",
          "Died",
          "Survived"
         ],
         "labels": [
          "Q1",
          "Q4",
          "Q2",
          "Q4",
          "Q2",
          "Q2",
          "Q4",
          "Q3",
          "Q2",
          "Q3",
          "Q3",
          "Q3",
          "Q4",
          "Q1",
          "Q3",
          "Q3",
          "Q2",
          "Q3",
          "Q1",
          "Q3",
          "Q2",
          "Q4",
          "Q3",
          "Q4",
          "Q1",
          "Q4",
          "Q1",
          "Q1",
          "Q3",
          "Q2",
          "Q4",
          "Q4",
          "Q1",
          "Q3",
          "Q2",
          "Q2",
          "Q3",
          "Q4",
          "Q3",
          "Q3",
          "Q3",
          "Q4",
          "Q3",
          "Q2",
          "Q3",
          "Q4",
          "Q4",
          "Q3",
          "Q2",
          "Q2",
          "Q4",
          "Q4",
          "Q2",
          "Q4",
          "Q3",
          "Q2",
          "Q2",
          "Q3",
          "Q4",
          "Q3",
          "Q4",
          "Q4",
          "Q3",
          "Q1",
          "Q1",
          "Q1",
          "Q3",
          "Q2",
          "Q3",
          "Q1",
          "Q4",
          "Q4",
          "Q3",
          "Q2",
          "Q3",
          "Q3",
          "Q3",
          "Q2",
          "Q3",
          "Q3",
          "Q2",
          "Q3",
          "Q1",
          "Q3",
          "Q3",
          "Q3",
          "Q3",
          "Q4",
          "Q2",
          "Q1",
          "Q3",
          "Q4",
          "Q4",
          "Q3",
          "Q3",
          "Q1",
          "Q3",
          "Q4",
          "Q2",
          "Q2",
          "Q2",
          "Q2",
          "Q3",
          "Q3",
          "Q1",
          "Q4",
          "Q4",
          "Q2",
          "Q4",
          "Q3",
          "Q4",
          "Q2",
          "Q4",
          "Q1",
          "Q1",
          "Q1",
          "Q3",
          "Q1",
          "Q2",
          "Q2",
          "Q2",
          "Q4",
          "Q3",
          "Q2",
          "Q4",
          "Q4",
          "Q4",
          "Q3",
          "Q4",
          "Q3",
          "Q3",
          "Q1",
          "Q1",
          "Q4",
          "Q3",
          "Q4",
          "Q2",
          "Q4",
          "Q4",
          "Q2",
          "Q1",
          "Q4",
          "Q3",
          "Q2",
          "Q2",
          "Q3",
          "Q3",
          "Q4",
          "Q4",
          "Q4",
          "Q1",
          "Q3",
          "Q2",
          "Q3",
          "Q2",
          "Q4",
          "Q3",
          "Q4",
          "Q1",
          "Q4",
          "Q4",
          "Q4",
          "Q2",
          "Q4",
          "Q1",
          "Q3",
          "Q2",
          "Q2",
          "Q2",
          "Q4",
          "Q4",
          "Q2",
          "Q4",
          "Q3",
          "Q2",
          "Q2",
          "Q1",
          "Q1",
          "Q3",
          "Q4",
          "Q2",
          "Q2",
          "Q4",
          "Q4",
          "Q3",
          "Q2",
          "Q2",
          "Q2",
          "Q2",
          "Q3",
          "Pair",
          "Pair",
          "Single",
          "Pair",
          "Single",
          "Single",
          "Single",
          "Group",
          "Group",
          "Pair",
          "Group",
          "Single",
          "Group",
          "Single",
          "Single",
          "Group",
          "Single",
          "Pair",
          "Single",
          "Single",
          "Single",
          "Single",
          "Group",
          "Single",
          "Group",
          "Single",
          "Single",
          "Pair",
          "Pair",
          "Single",
          "Group",
          "Pair",
          "Pair",
          "Group",
          "Pair",
          "Group",
          "Pair",
          "Pair",
          "Group",
          "Group",
          "Group",
          "Group",
          "Pair",
          "Single",
          "Group",
          "Single",
          "Group",
          "Pair",
          "Pair",
          "Single",
          "Pair",
          "Pair",
          "Single",
          "Group",
          "Pair",
          "Pair",
          "Group",
          "Single",
          "Single",
          "Group",
          "Pair",
          "Single",
          "Group",
          "Group",
          "Single",
          "Group",
          "Single",
          "Single",
          "Single",
          "Pair",
          "Single",
          "Pair",
          "Pair",
          "Group",
          "Group",
          "Group",
          "Single",
          "Pair",
          "Group",
          "Group",
          "Single",
          "Group",
          "Pair",
          "Group",
          "Group",
          "Group",
          "Group",
          "Group",
          "Pair",
          "Group",
          "Group",
          "Single",
          "Pair",
          "Group",
          "Group",
          "Pair",
          "Single",
          "Pair",
          "Group",
          "Single",
          "Pair",
          "Single",
          "Pair",
          "Single",
          "Group",
          "Group",
          "Group",
          "Group",
          "Single",
          "Single",
          "Single",
          "Group",
          "Pair",
          "Pair",
          "Pair",
          "Single",
          "Pair",
          "Single",
          "Single",
          "Group",
          "Pair",
          "Group",
          "Group",
          "Pair",
          "Pair",
          "Lower",
          "Upper",
          "Lower",
          "Upper",
          "Lower",
          "Upper",
          "Lower",
          "Middle",
          "Lower",
          "Lower",
          "Middle",
          "Lower",
          "Middle",
          "Lower",
          "Lower",
          "Middle",
          "Lower",
          "Upper",
          "Lower",
          "Lower",
          "Lower",
          "Upper",
          "Lower",
          "Lower",
          "Middle",
          "Middle",
          "Middle",
          "Lower",
          "Lower",
          "Lower",
          "Middle",
          "Middle",
          "Upper",
          "Lower",
          "Middle",
          "Lower",
          "Lower",
          "Middle",
          "Lower",
          "Upper",
          "Lower",
          "Upper",
          "Lower",
          "Upper",
          "Lower",
          "Middle",
          "Upper",
          "Upper",
          "Lower",
          "Lower",
          "Upper",
          "Upper",
          "Middle",
          "Upper",
          "Upper",
          "Middle",
          "Upper",
          "Middle",
          "Lower",
          "Upper",
          "Lower",
          "Middle",
          "Lower",
          "Adult",
          "Adult",
          "Adult",
          "Adult",
          "Child",
          "Teen",
          "Child",
          "Teen",
          "Child",
          "Adult",
          "Adult",
          "Teen",
          "Child",
          "Adult",
          "Adult",
          "Adult",
          "Child",
          "Teen",
          "Teen",
          "Child",
          "Teen",
          "Teen",
          "Adult",
          "Teen",
          "Adult",
          "Adult",
          "Teen",
          "Teen",
          "Child",
          "Child",
          "S",
          "C",
          "S",
          "Q",
          "S",
          "S",
          "Q",
          "C",
          "C",
          "C",
          "Q",
          "Q",
          "male",
          "female",
          "female",
          "male",
          "Died",
          "Survived"
         ],
         "name": "",
         "parents": [
          "Died/male/S/Adult/Lower/Pair",
          "Survived/female/C/Adult/Upper/Pair",
          "Survived/female/S/Adult/Lower/Single",
          "Survived/female/S/Adult/Upper/Pair",
          "Died/male/S/Adult/Lower/Single",
          "Died/male/Q/Adult/Lower/Single",
          "Died/male/S/Adult/Upper/Single",
          "Died/male/S/Child/Lower/Group",
          "Survived/female/S/Adult/Lower/Group",
          "Survived/female/C/Teen/Middle/Pair",
          "Survived/female/S/Child/Lower/Group",
          "Survived/female/S/Adult/Upper/Single",
          "Died/male/S/Adult/Lower/Group",
          "Died/female/S/Teen/Lower/Single",
          "Survived/female/S/Adult/Middle/Single",
          "Died/male/Q/Child/Lower/Group",
          "Survived/male/S/Adult/Middle/Single",
          "Died/female/S/Adult/Lower/Pair",
          "Survived/female/C/Adult/Lower/Single",
          "Died/male/S/Adult/Middle/Single",
          "Survived/female/Q/Teen/Lower/Single",
          "Survived/male/S/Adult/Upper/Single",
          "Died/female/S/Child/Lower/Group",
          "Survived/female/S/Adult/Lower/Group",
          "Died/male/C/Adult/Lower/Single",
          "Died/male/S/Adult/Upper/Group",
          "Survived/female/Q/Adult/Lower/Single",
          "Died/male/S/Adult/Lower/Single",
          "Died/male/C/Adult/Upper/Single",
          "Died/male/S/Adult/Middle/Single",
          "Died/male/C/Adult/Upper/Pair",
          "Died/male/S/Adult/Upper/Pair",
          "Survived/male/C/Adult/Lower/Single",
          "Died/female/S/Teen/Lower/Group",
          "Survived/female/C/Teen/Lower/Pair",
          "Died/female/S/Adult/Lower/Pair",
          "Died/female/S/Adult/Middle/Pair",
          "Survived/female/C/Child/Middle/Group",
          "Died/male/Q/Adult/Lower/Pair",
          "Died/male/C/Adult/Lower/Group",
          "Died/female/S/Teen/Lower/Pair",
          "Died/male/S/Child/Lower/Group",
          "Survived/female/S/Adult/Middle/Pair",
          "Survived/female/S/Adult/Middle/Single",
          "Survived/female/S/Child/Middle/Group",
          "Died/male/S/Teen/Lower/Group",
          "Survived/female/S/Adult/Upper/Single",
          "Survived/male/C/Adult/Lower/Group",
          "Survived/female/S/Teen/Lower/Group",
          "Died/male/S/Adult/Lower/Group",
          "Died/female/S/Teen/Lower/Group",
          "Died/male/S/Adult/Middle/Single",
          "Died/male/C/Adult/Lower/Pair",
          "Survived/male/S/Adult/Lower/Single",
          "Survived/male/S/Child/Middle/Group",
          "Survived/male/S/Adult/Lower/Single",
          "Survived/female/S/Teen/Middle/Single",
          "Survived/female/S/Adult/Lower/Group",
          "Survived/female/S/Adult/Upper/Group",
          "Died/male/S/Adult/Lower/Group",
          "Died/male/C/Adult/Upper/Single",
          "Survived/male/C/Adult/Upper/Pair",
          "Died/male/S/Adult/Middle/Pair",
          "Died/female/S/Adult/Lower/Single",
          "Survived/female/S/Adult/Lower/Single",
          "Survived/male/S/Adult/Lower/Single",
          "Survived/female/Q/Adult/Lower/Pair",
          "Died/female/C/Teen/Lower/Pair",
          "Died/female/C/Teen/Lower/Single",
          "Died/male/Q/Adult/Lower/Single",
          "Died/female/S/Child/Lower/Group",
          "Died/male/S/Adult/Middle/Group",
          "Died/male/C/Adult/Middle/Pair",
          "Survived/male/C/Teen/Lower/Pair",
          "Survived/female/C/Adult/Lower/Group",
          "Died/male/C/Adult/Middle/Single",
          "Survived/female/S/Adult/Upper/Group",
          "Died/male/S/Teen/Lower/Single",
          "Died/female/C/Adult/Lower/Group",
          "Survived/female/S/Adult/Lower/Pair",
          "Died/male/S/Teen/Middle/Single",
          "Died/male/S/Adult/Middle/Group",
          "Survived/female/Q/Teen/Lower/Single",
          "Died/male/S/Adult/Lower/Pair",
          "Survived/male/S/Child/Lower/Group",
          "Died/female/S/Adult/Lower/Group",
          "Died/male/S/Adult/Upper/Single",
          "Died/male/S/Adult/Lower/Single",
          "Survived/female/S/Child/Lower/Group",
          "Died/male/S/Teen/Lower/Group",
          "Died/female/C/Adult/Upper/Single",
          "Died/female/S/Adult/Lower/Group",
          "Survived/male/S/Child/Middle/Group",
          "Survived/male/S/Adult/Upper/Single",
          "Died/male/Q/Adult/Lower/Group",
          "Survived/female/S/Adult/Lower/Pair",
          "Survived/female/C/Adult/Upper/Single",
          "Survived/female/C/Adult/Upper/Single",
          "Died/male/S/Adult/Lower/Pair",
          "Died/female/S/Adult/Middle/Single",
          "Survived/male/S/Teen/Lower/Single",
          "Died/female/S/Child/Lower/Pair",
          "Survived/male/C/Adult/Lower/Single",
          "Survived/male/C/Adult/Upper/Single",
          "Died/male/Q/Adult/Lower/Pair",
          "Survived/male/S/Adult/Upper/Pair",
          "Survived/female/S/Child/Lower/Group",
          "Died/female/C/Adult/Lower/Pair",
          "Died/male/Q/Adult/Upper/Group",
          "Survived/female/S/Adult/Middle/Group",
          "Survived/male/S/Adult/Upper/Group",
          "Died/female/S/Adult/Lower/Group",
          "Survived/male/S/Child/Lower/Group",
          "Died/male/S/Adult/Upper/Single",
          "Died/female/Q/Adult/Lower/Single",
          "Survived/male/S/Adult/Lower/Pair",
          "Died/male/C/Adult/Upper/Pair",
          "Died/male/S/Adult/Middle/Single",
          "Died/male/C/Adult/Lower/Single",
          "Died/male/C/Adult/Middle/Single",
          "Died/female/S/Adult/Lower/Single",
          "Died/female/S/Child/Upper/Group",
          "Survived/male/Q/Adult/Lower/Group",
          "Survived/female/Q/Adult/Middle/Single",
          "Survived/male/S/Child/Upper/Group",
          "Survived/female/C/Teen/Upper/Pair",
          "Survived/female/C/Teen/Upper/Group",
          "Died/female/S/Adult/Middle/Group",
          "Survived/female/C/Adult/Upper/Group",
          "Survived/female/Q/Adult/Lower/Group",
          "Died/male/S/Teen/Lower/Group",
          "Died/male/C/Teen/Lower/Group",
          "Died/male/S/Teen/Lower/Pair",
          "Died/male/C/Adult/Upper/Group",
          "Survived/female/C/Child/Lower/Group",
          "Died/male/S/Teen/Middle/Single",
          "Survived/female/C/Teen/Middle/Single",
          "Survived/female/Q/Adult/Upper/Pair",
          "Survived/female/S/Adult/Middle/Group",
          "Survived/female/S/Teen/Middle/Group",
          "Died/male/S/Teen/Lower/Single",
          "Survived/female/S/Teen/Upper/Group",
          "Survived/female/S/Teen/Middle/Pair",
          "Survived/female/C/Adult/Middle/Single",
          "Survived/female/S/Child/Lower/Pair",
          "Died/male/C/Adult/Lower/Single",
          "Died/male/S/Adult/Lower/Single",
          "Died/female/S/Adult/Upper/Group",
          "Survived/female/S/Teen/Upper/Single",
          "Died/male/C/Teen/Upper/Pair",
          "Survived/male/Q/Adult/Lower/Single",
          "Died/male/Q/Adult/Lower/Single",
          "Died/male/S/Adult/Middle/Group",
          "Survived/male/S/Adult/Middle/Pair",
          "Survived/male/C/Adult/Middle/Single",
          "Survived/male/C/Teen/Upper/Group",
          "Died/female/C/Adult/Lower/Pair",
          "Survived/male/C/Adult/Upper/Group",
          "Died/female/Q/Adult/Lower/Group",
          "Survived/female/S/Adult/Middle/Single",
          "Survived/female/C/Adult/Middle/Group",
          "Survived/female/S/Child/Middle/Group",
          "Died/male/Q/Adult/Middle/Single",
          "Survived/male/C/Adult/Upper/Single",
          "Died/female/Q/Teen/Lower/Single",
          "Died/female/Q/Adult/Lower/Group",
          "Survived/male/S/Adult/Lower/Pair",
          "Survived/female/S/Teen/Lower/Single",
          "Died/female/Q/Adult/Lower/Single",
          "Died/male/C/Adult/Middle/Group",
          "Survived/female/S/Teen/Upper/Pair",
          "Survived/female/C/Child/Lower/Pair",
          "Survived/female/S/Child/Middle/Pair",
          "Died/male/C/Teen/Lower/Single",
          "Survived/male/S/Child/Lower/Pair",
          "Survived/female/S/Child/Lower/Single",
          "Survived/female/C/Teen/Lower/Single",
          "Survived/female/S/Teen/Lower/Single",
          "Died/male/S/Teen/Middle/Single",
          "Survived/male/S/Teen/Upper/Group",
          "Survived/male/C/Child/Lower/Pair",
          "Survived/female/S/Adult/Lower/Pair",
          "Survived/male/C/Child/Middle/Group",
          "Died/male/S/Adult/Middle/Pair",
          "Died/female/C/Child/Lower/Group",
          "Survived/female/S/Teen/Lower/Pair",
          "Died/male/S/Adult/Middle/Pair",
          "Survived/female/C/Adult/Middle/Pair",
          "Survived/male/S/Child/Lower/Group",
          "Survived/female/C/Adult/Middle/Pair",
          "Died/male/S/Adult/Lower",
          "Survived/female/C/Adult/Upper",
          "Survived/female/S/Adult/Lower",
          "Survived/female/S/Adult/Upper",
          "Died/male/S/Adult/Lower",
          "Died/male/Q/Adult/Lower",
          "Died/male/S/Adult/Upper",
          "Died/male/S/Child/Lower",
          "Survived/female/S/Adult/Lower",
          "Survived/female/C/Teen/Middle",
          "Survived/female/S/Child/Lower",
          "Survived/female/S/Adult/Upper",
          "Died/male/S/Adult/Lower",
          "Died/female/S/Teen/Lower",
          "Survived/female/S/Adult/Middle",
          "Died/male/Q/Child/Lower",
          "Survived/male/S/Adult/Middle",
          "Died/female/S/Adult/Lower",
          "Survived/female/C/Adult/Lower",
          "Died/male/S/Adult/Middle",
          "Survived/female/Q/Teen/Lower",
          "Survived/male/S/Adult/Upper",
          "Died/female/S/Child/Lower",
          "Died/male/C/Adult/Lower",
          "Died/male/S/Adult/Upper",
          "Survived/female/Q/Adult/Lower",
          "Died/male/C/Adult/Upper",
          "Died/male/C/Adult/Upper",
          "Died/male/S/Adult/Upper",
          "Survived/male/C/Adult/Lower",
          "Died/female/S/Teen/Lower",
          "Survived/female/C/Teen/Lower",
          "Died/female/S/Adult/Middle",
          "Survived/female/C/Child/Middle",
          "Died/male/Q/Adult/Lower",
          "Died/male/C/Adult/Lower",
          "Died/female/S/Teen/Lower",
          "Survived/female/S/Adult/Middle",
          "Survived/female/S/Child/Middle",
          "Died/male/S/Teen/Lower",
          "Survived/male/C/Adult/Lower",
          "Survived/female/S/Teen/Lower",
          "Died/male/C/Adult/Lower",
          "Survived/male/S/Adult/Lower",
          "Survived/male/S/Child/Middle",
          "Survived/female/S/Teen/Middle",
          "Survived/female/S/Adult/Upper",
          "Survived/male/C/Adult/Upper",
          "Died/male/S/Adult/Middle",
          "Died/female/S/Adult/Lower",
          "Survived/female/Q/Adult/Lower",
          "Died/female/C/Teen/Lower",
          "Died/female/C/Teen/Lower",
          "Died/male/S/Adult/Middle",
          "Died/male/C/Adult/Middle",
          "Survived/male/C/Teen/Lower",
          "Survived/female/C/Adult/Lower",
          "Died/male/C/Adult/Middle",
          "Died/male/S/Teen/Lower",
          "Died/female/C/Adult/Lower",
          "Survived/female/S/Adult/Lower",
          "Died/male/S/Teen/Middle",
          "Survived/male/S/Child/Lower",
          "Died/female/S/Adult/Lower",
          "Died/female/C/Adult/Upper",
          "Died/male/Q/Adult/Lower",
          "Survived/female/C/Adult/Upper",
          "Died/female/S/Adult/Middle",
          "Survived/male/S/Teen/Lower",
          "Died/female/S/Child/Lower",
          "Survived/male/C/Adult/Upper",
          "Survived/male/S/Adult/Upper",
          "Died/female/C/Adult/Lower",
          "Died/male/Q/Adult/Upper",
          "Survived/female/S/Adult/Middle",
          "Survived/male/S/Adult/Upper",
          "Died/female/Q/Adult/Lower",
          "Survived/male/S/Adult/Lower",
          "Died/female/S/Child/Upper",
          "Survived/male/Q/Adult/Lower",
          "Survived/female/Q/Adult/Middle",
          "Survived/male/S/Child/Upper",
          "Survived/female/C/Teen/Upper",
          "Survived/female/C/Teen/Upper",
          "Died/female/S/Adult/Middle",
          "Survived/female/C/Adult/Upper",
          "Survived/female/Q/Adult/Lower",
          "Died/male/C/Teen/Lower",
          "Died/male/S/Teen/Lower",
          "Died/male/C/Adult/Upper",
          "Survived/female/C/Child/Lower",
          "Survived/female/C/Teen/Middle",
          "Survived/female/Q/Adult/Upper",
          "Survived/female/S/Teen/Middle",
          "Survived/female/S/Teen/Upper",
          "Survived/female/S/Teen/Middle",
          "Survived/female/C/Adult/Middle",
          "Survived/female/S/Child/Lower",
          "Died/female/S/Adult/Upper",
          "Survived/female/S/Teen/Upper",
          "Died/male/C/Teen/Upper",
          "Survived/male/Q/Adult/Lower",
          "Survived/male/S/Adult/Middle",
          "Survived/male/C/Adult/Middle",
          "Survived/male/C/Teen/Upper",
          "Survived/male/C/Adult/Upper",
          "Died/female/Q/Adult/Lower",
          "Survived/female/C/Adult/Middle",
          "Died/male/Q/Adult/Middle",
          "Died/female/Q/Teen/Lower",
          "Survived/female/S/Teen/Lower",
          "Died/male/C/Adult/Middle",
          "Survived/female/S/Teen/Upper",
          "Survived/female/C/Child/Lower",
          "Survived/female/S/Child/Middle",
          "Died/male/C/Teen/Lower",
          "Survived/male/S/Child/Lower",
          "Survived/female/S/Child/Lower",
          "Survived/female/C/Teen/Lower",
          "Survived/male/S/Teen/Upper",
          "Survived/male/C/Child/Lower",
          "Survived/male/C/Child/Middle",
          "Died/female/C/Child/Lower",
          "Survived/female/S/Teen/Lower",
          "Survived/female/C/Adult/Middle",
          "Died/male/S/Adult",
          "Survived/female/C/Adult",
          "Survived/female/S/Adult",
          "Survived/female/S/Adult",
          "Died/male/Q/Adult",
          "Died/male/S/Adult",
          "Died/male/S/Child",
          "Survived/female/C/Teen",
          "Survived/female/S/Child",
          "Died/female/S/Teen",
          "Survived/female/S/Adult",
          "Died/male/Q/Child",
          "Survived/male/S/Adult",
          "Died/female/S/Adult",
          "Survived/female/C/Adult",
          "Died/male/S/Adult",
          "Survived/female/Q/Teen",
          "Survived/male/S/Adult",
          "Died/female/S/Child",
          "Died/male/C/Adult",
          "Survived/female/Q/Adult",
          "Died/male/C/Adult",
          "Survived/male/C/Adult",
          "Survived/female/C/Teen",
          "Died/female/S/Adult",
          "Survived/female/C/Child",
          "Survived/female/S/Child",
          "Died/male/S/Teen",
          "Survived/female/S/Teen",
          "Survived/male/S/Adult",
          "Survived/male/S/Child",
          "Survived/female/S/Teen",
          "Survived/male/C/Adult",
          "Died/female/C/Teen",
          "Died/male/C/Adult",
          "Survived/male/C/Teen",
          "Died/female/C/Adult",
          "Died/male/S/Teen",
          "Survived/male/S/Child",
          "Died/female/C/Adult",
          "Survived/male/S/Teen",
          "Died/male/Q/Adult",
          "Died/female/Q/Adult",
          "Died/female/S/Child",
          "Survived/male/Q/Adult",
          "Survived/female/Q/Adult",
          "Survived/male/S/Child",
          "Survived/female/C/Teen",
          "Died/male/C/Teen",
          "Survived/female/C/Child",
          "Survived/female/Q/Adult",
          "Survived/female/S/Teen",
          "Survived/female/C/Adult",
          "Died/female/S/Adult",
          "Died/male/C/Teen",
          "Survived/male/C/Adult",
          "Survived/male/C/Teen",
          "Died/male/Q/Adult",
          "Died/female/Q/Teen",
          "Survived/male/S/Teen",
          "Survived/male/C/Child",
          "Survived/male/C/Child",
          "Died/female/C/Child",
          "Died/male/S",
          "Survived/female/C",
          "Survived/female/S",
          "Died/male/Q",
          "Died/male/S",
          "Survived/female/C",
          "Survived/female/S",
          "Died/female/S",
          "Died/male/Q",
          "Survived/male/S",
          "Died/female/S",
          "Survived/female/Q",
          "Died/female/S",
          "Died/male/C",
          "Survived/female/Q",
          "Survived/male/C",
          "Survived/female/C",
          "Died/male/S",
          "Survived/female/S",
          "Survived/male/S",
          "Died/female/C",
          "Survived/male/C",
          "Died/female/C",
          "Survived/male/S",
          "Died/female/Q",
          "Survived/male/Q",
          "Died/male/C",
          "Died/female/Q",
          "Survived/male/C",
          "Died/female/C",
          "Died/male",
          "Survived/female",
          "Survived/female",
          "Died/male",
          "Died/female",
          "Survived/male",
          "Survived/female",
          "Died/male",
          "Survived/male",
          "Died/female",
          "Died/female",
          "Survived/male",
          "Died",
          "Survived",
          "Died",
          "Survived",
          "",
          ""
         ],
         "values": {
          "dtype": "i2",
          "bdata": "BAAQAAUAEABAAAEADgACAAEAAQACAAQABQACAAQABAAGAAMAAgAGAAEAAgAEAAEAGAAEABAAWwAHACoABQAMAAQAAgACAAQAAgABAAMAAQABAAcACwATAAUABQALAAMAAQAFAAIAAQACAAUABgALAAEABAAKAAgACAAHAAkABQAGAAcABAACAAEAGAAEAAUAAwABAAQAAgABAAcAAQAEAAQABAACAAoABAAIAA8AAgABAAEAAQAIAAIADwABAAEAAgAPAAEAAwACAAEAAQAFAAEABQABAAIAAQALAAMAAgABAAYABAABAAEABgACAAEACQABAAEAAgACAAMAAQABAAUAAQAEAAIAAgADAAQAAQABAAEABAABAAUAAgACAAEAAQABAAgAAQABAAEAAgACAAEAAQABAAEAAQABAAEAAQABAAEAAQADAAEAAgABAAEAAQACAAMAAQABAAEAAQABAAIAAQABAAEAAQABAAEAAQABAAEAAQABAAEAAQAPABAACwAQAKUAGwAjAAkABgABAAQADwASAAIAGAAEAAYABwACADcAAwARAAgAGwAEABAADwAGAAwABQAEAAIAAgABAAQAAQABAAsABgAKAAMAAQACABcACAABAAsABwALAA4ABAACAAEACgADAAEABAADAAwAAQAGAAYABgASAAEAAQARAAMAAgABAAgABQADAAEADwADAAUAAgABAAEAAgACAAMAAQABAAUAAQACAAIAAwAEAAEAAQABAAIAAgABAAEAAQABAAEAAgABAAEAAQABAAMAAQABAAEAAgACAAMAAQABAAEAAQABAAIAAQABAAEAAQABAAIAxgAmABcAKgAgADMACQACAAYABwAyAAQABwAnAAYATAADABkACQAeABUAGAAIAAQABgABAAcAGAAEABkACAAEABAAAwAIAAEABAAGAAcAAQACAAEACAABAAMAAgACAAQAAwAFAAEABgAEAAEAAQABAAEAAQABAAEAAQABAAEARQEwAHMAIgAJAAoADQAHAAQAOQAuAAMACgA+ABgAGQAGAB4ADgARAAMAAgAFAAMACAADAAQAAQACAAEAbAFAAI4AJgA/AE0AGwBCAB0ACQAJAAMA1AHpAFEAbQAlAlYB"
         },
         "type": "sunburst"
        }
       ],
       "layout": {
        "template": {
         "data": {
          "histogram2dcontour": [
           {
            "type": "histogram2dcontour",
            "colorbar": {
             "outlinewidth": 0,
             "ticks": ""
            },
            "colorscale": [
             [
              0.0,
              "#0d0887"
             ],
             [
              0.1111111111111111,
              "#46039f"
             ],
             [
              0.2222222222222222,
              "#7201a8"
             ],
             [
              0.3333333333333333,
              "#9c179e"
             ],
             [
              0.4444444444444444,
              "#bd3786"
             ],
             [
              0.5555555555555556,
              "#d8576b"
             ],
             [
              0.6666666666666666,
              "#ed7953"
             ],
             [
              0.7777777777777778,
              "#fb9f3a"
             ],
             [
              0.8888888888888888,
              "#fdca26"
             ],
             [
              1.0,
              "#f0f921"
             ]
            ]
           }
          ],
          "choropleth": [
           {
            "type": "choropleth",
            "colorbar": {
             "outlinewidth": 0,
             "ticks": ""
            }
           }
          ],
          "histogram2d": [
           {
            "type": "histogram2d",
            "colorbar": {
             "outlinewidth": 0,
             "ticks": ""
            },
            "colorscale": [
             [
              0.0,
              "#0d0887"
             ],
             [
              0.1111111111111111,
              "#46039f"
             ],
             [
              0.2222222222222222,
              "#7201a8"
             ],
             [
              0.3333333333333333,
              "#9c179e"
             ],
             [
              0.4444444444444444,
              "#bd3786"
             ],
             [
              0.5555555555555556,
              "#d8576b"
             ],
             [
              0.6666666666666666,
              "#ed7953"
             ],
             [
              0.7777777777777778,
              "#fb9f3a"
             ],
             [
              0.8888888888888888,
              "#fdca26"
             ],
             [
              1.0,
              "#f0f921"
             ]
            ]
           }
          ],
          "heatmap": [
           {
            "type": "heatmap",
            "colorbar": {
             "outlinewidth": 0,
             "ticks": ""
            },
            "colorscale": [
             [
              0.0,
              "#0d0887"
             ],
             [
              0.1111111111111111,
              "#46039f"
             ],
             [
              0.2222222222222222,
              "#7201a8"
             ],
             [
              0.3333333333333333,
              "#9c179e"
             ],
             [
              0.4444444444444444,
              "#bd3786"
             ],
             [
              0.5555555555555556,
              "#d8576b"
             ],
             [
              0.6666666666666666,
              "#ed7953"
             ],
             [
              0.7777777777777778,
              "#fb9f3a"
             ],
             [
              0.8888888888888888,
              "#fdca26"
             ],
             [
              1.0,
              "#f0f921"
             ]
            ]
           }
          ],
          "contourcarpet": [
           {
            "type": "contourcarpet",
            "colorbar": {
             "outlinewidth": 0,
             "ticks": ""
            }
           }
          ],
          "contour": [
           {
            "type": "contour",
            "colorbar": {
             "outlinewidth": 0,
             "ticks": ""
            },
            "colorscale": [
             [
              0.0,
              "#0d0887"
             ],
             [
              0.1111111111111111,
              "#46039f"
             ],
             [
              0.2222222222222222,
              "#7201a8"
             ],
             [
              0.3333333333333333,
              "#9c179e"
             ],
             [
              0.4444444444444444,
              "#bd3786"
             ],
             [
              0.5555555555555556,
              "#d8576b"
             ],
             [
              0.6666666666666666,
              "#ed7953"
             ],
             [
              0.7777777777777778,
              "#fb9f3a"
             ],
             [
              0.8888888888888888,
              "#fdca26"
             ],
             [
              1.0,
              "#f0f921"
             ]
            ]
           }
          ],
          "surface": [
           {
            "type": "surface",
            "colorbar": {
             "outlinewidth": 0,
             "ticks": ""
            },
            "colorscale": [
             [
              0.0,
              "#0d0887"
             ],
             [
              0.1111111111111111,
              "#46039f"
             ],
             [
              0.2222222222222222,
              "#7201a8"
             ],
             [
              0.3333333333333333,
              "#9c179e"
             ],
             [
              0.4444444444444444,
              "#bd3786"
             ],
             [
              0.5555555555555556,
              "#d8576b"
             ],
             [
              0.6666666666666666,
              "#ed7953"
             ],
             [
              0.7777777777777778,
              "#fb9f3a"
             ],
             [
              0.8888888888888888,
              "#fdca26"
             ],
             [
              1.0,
              "#f0f921"
             ]
            ]
           }
          ],
          "mesh3d": [
           {
            "type": "mesh3d",
            "colorbar": {
             "outlinewidth": 0,
             "ticks": ""
            }
           }
          ],
          "scatter": [
           {
            "fillpattern": {
             "fillmode": "overlay",
             "size": 10,
             "solidity": 0.2
            },
            "type": "scatter"
           }
          ],
          "parcoords": [
           {
            "type": "parcoords",
            "line": {
             "colorbar": {
              "outlinewidth": 0,
              "ticks": ""
             }
            }
           }
          ],
          "scatterpolargl": [
           {
            "type": "scatterpolargl",
            "marker": {
             "colorbar": {
              "outlinewidth": 0,
              "ticks": ""
             }
            }
           }
          ],
          "bar": [
           {
            "error_x": {
             "color": "#2a3f5f"
            },
            "error_y": {
             "color": "#2a3f5f"
            },
            "marker": {
             "line": {
              "color": "#E5ECF6",
              "width": 0.5
             },
             "pattern": {
              "fillmode": "overlay",
              "size": 10,
              "solidity": 0.2
             }
            },
            "type": "bar"
           }
          ],
          "scattergeo": [
           {
            "type": "scattergeo",
            "marker": {
             "colorbar": {
              "outlinewidth": 0,
              "ticks": ""
             }
            }
           }
          ],
          "scatterpolar": [
           {
            "type": "scatterpolar",
            "marker": {
             "colorbar": {
              "outlinewidth": 0,
              "ticks": ""
             }
            }
           }
          ],
          "histogram": [
           {
            "marker": {
             "pattern": {
              "fillmode": "overlay",
              "size": 10,
              "solidity": 0.2
             }
            },
            "type": "histogram"
           }
          ],
          "scattergl": [
           {
            "type": "scattergl",
            "marker": {
             "colorbar": {
              "outlinewidth": 0,
              "ticks": ""
             }
            }
           }
          ],
          "scatter3d": [
           {
            "type": "scatter3d",
            "line": {
             "colorbar": {
              "outlinewidth": 0,
              "ticks": ""
             }
            },
            "marker": {
             "colorbar": {
              "outlinewidth": 0,
              "ticks": ""
             }
            }
           }
          ],
          "scattermap": [
           {
            "type": "scattermap",
            "marker": {
             "colorbar": {
              "outlinewidth": 0,
              "ticks": ""
             }
            }
           }
          ],
          "scattermapbox": [
           {
            "type": "scattermapbox",
            "marker": {
             "colorbar": {
              "outlinewidth": 0,
              "ticks": ""
             }
            }
           }
          ],
          "scatterternary": [
           {
            "type": "scatterternary",
            "marker": {
             "colorbar": {
              "outlinewidth": 0,
              "ticks": ""
             }
            }
           }
          ],
          "scattercarpet": [
           {
            "type": "scattercarpet",
            "marker": {
             "colorbar": {
              "outlinewidth": 0,
              "ticks": ""
             }
            }
           }
          ],
          "carpet": [
           {
            "aaxis": {
             "endlinecolor": "#2a3f5f",
             "gridcolor": "white",
             "linecolor": "white",
             "minorgridcolor": "white",
             "startlinecolor": "#2a3f5f"
            },
            "baxis": {
             "endlinecolor": "#2a3f5f",
             "gridcolor": "white",
             "linecolor": "white",
             "minorgridcolor": "white",
             "startlinecolor": "#2a3f5f"
            },
            "type": "carpet"
           }
          ],
          "table": [
           {
            "cells": {
             "fill": {
              "color": "#EBF0F8"
             },
             "line": {
              "color": "white"
             }
            },
            "header": {
             "fill": {
              "color": "#C8D4E3"
             },
             "line": {
              "color": "white"
             }
            },
            "type": "table"
           }
          ],
          "barpolar": [
           {
            "marker": {
             "line": {
              "color": "#E5ECF6",
              "width": 0.5
             },
             "pattern": {
              "fillmode": "overlay",
              "size": 10,
              "solidity": 0.2
             }
            },
            "type": "barpolar"
           }
          ],
          "pie": [
           {
            "automargin": true,
            "type": "pie"
           }
          ]
         },
         "layout": {
          "autotypenumbers": "strict",
          "colorway": [
           "#636efa",
           "#EF553B",
           "#00cc96",
           "#ab63fa",
           "#FFA15A",
           "#19d3f3",
           "#FF6692",
           "#B6E880",
           "#FF97FF",
           "#FECB52"
          ],
          "font": {
           "color": "#2a3f5f"
          },
          "hovermode": "closest",
          "hoverlabel": {
           "align": "left"
          },
          "paper_bgcolor": "white",
          "plot_bgcolor": "#E5ECF6",
          "polar": {
           "bgcolor": "#E5ECF6",
           "angularaxis": {
            "gridcolor": "white",
            "linecolor": "white",
            "ticks": ""
           },
           "radialaxis": {
            "gridcolor": "white",
            "linecolor": "white",
            "ticks": ""
           }
          },
          "ternary": {
           "bgcolor": "#E5ECF6",
           "aaxis": {
            "gridcolor": "white",
            "linecolor": "white",
            "ticks": ""
           },
           "baxis": {
            "gridcolor": "white",
            "linecolor": "white",
            "ticks": ""
           },
           "caxis": {
            "gridcolor": "white",
            "linecolor": "white",
            "ticks": ""
           }
          },
          "coloraxis": {
           "colorbar": {
            "outlinewidth": 0,
            "ticks": ""
           }
          },
          "colorscale": {
           "sequential": [
            [
             0.0,
             "#0d0887"
            ],
            [
             0.1111111111111111,
             "#46039f"
            ],
            [
             0.2222222222222222,
             "#7201a8"
            ],
            [
             0.3333333333333333,
             "#9c179e"
            ],
            [
             0.4444444444444444,
             "#bd3786"
            ],
            [
             0.5555555555555556,
             "#d8576b"
            ],
            [
             0.6666666666666666,
             "#ed7953"
            ],
            [
             0.7777777777777778,
             "#fb9f3a"
            ],
            [
             0.8888888888888888,
             "#fdca26"
            ],
            [
             1.0,
             "#f0f921"
            ]
           ],
           "sequentialminus": [
            [
             0.0,
             "#0d0887"
            ],
            [
             0.1111111111111111,
             "#46039f"
            ],
            [
             0.2222222222222222,
             "#7201a8"
            ],
            [
             0.3333333333333333,
             "#9c179e"
            ],
            [
             0.4444444444444444,
             "#bd3786"
            ],
            [
             0.5555555555555556,
             "#d8576b"
            ],
            [
             0.6666666666666666,
             "#ed7953"
            ],
            [
             0.7777777777777778,
             "#fb9f3a"
            ],
            [
             0.8888888888888888,
             "#fdca26"
            ],
            [
             1.0,
             "#f0f921"
            ]
           ],
           "diverging": [
            [
             0,
             "#8e0152"
            ],
            [
             0.1,
             "#c51b7d"
            ],
            [
             0.2,
             "#de77ae"
            ],
            [
             0.3,
             "#f1b6da"
            ],
            [
             0.4,
             "#fde0ef"
            ],
            [
             0.5,
             "#f7f7f7"
            ],
            [
             0.6,
             "#e6f5d0"
            ],
            [
             0.7,
             "#b8e186"
            ],
            [
             0.8,
             "#7fbc41"
            ],
            [
             0.9,
             "#4d9221"
            ],
            [
             1,
             "#276419"
            ]
           ]
          },
          "xaxis": {
           "gridcolor": "white",
           "linecolor": "white",
           "ticks": "",
           "title": {
            "standoff": 15
           },
           "zerolinecolor": "white",
           "automargin": true,
           "zerolinewidth": 2
          },
          "yaxis": {
           "gridcolor": "white",
           "linecolor": "white",
           "ticks": "",
           "title": {
            "standoff": 15
           },
           "zerolinecolor": "white",
           "automargin": true,
           "zerolinewidth": 2
          },
          "scene": {
           "xaxis": {
            "backgroundcolor": "#E5ECF6",
            "gridcolor": "white",
            "linecolor": "white",
            "showbackground": true,
            "ticks": "",
            "zerolinecolor": "white",
            "gridwidth": 2
           },
           "yaxis": {
            "backgroundcolor": "#E5ECF6",
            "gridcolor": "white",
            "linecolor": "white",
            "showbackground": true,
            "ticks": "",
            "zerolinecolor": "white",
            "gridwidth": 2
           },
           "zaxis": {
            "backgroundcolor": "#E5ECF6",
            "gridcolor": "white",
            "linecolor": "white",
            "showbackground": true,
            "ticks": "",
            "zerolinecolor": "white",
            "gridwidth": 2
           }
          },
          "shapedefaults": {
           "line": {
            "color": "#2a3f5f"
           }
          },
          "annotationdefaults": {
           "arrowcolor": "#2a3f5f",
           "arrowhead": 0,
           "arrowwidth": 1
          },
          "geo": {
           "bgcolor": "white",
           "landcolor": "#E5ECF6",
           "subunitcolor": "white",
           "showland": true,
           "showlakes": true,
           "lakecolor": "white"
          },
          "title": {
           "x": 0.05
          },
          "mapbox": {
           "style": "light"
          }
         }
        },
        "legend": {
         "tracegroupgap": 0
        },
        "margin": {
         "t": 60
        },
        "height": 900,
        "width": 960
       },
       "config": {
        "plotlyServerURL": "https://plot.ly"
       }
      }
     },
     "metadata": {},
     "output_type": "display_data"
    }
   ],
   "execution_count": 328
  },
  {
   "metadata": {},
   "cell_type": "markdown",
   "source": [
    "I determined the majority of survivors by finding the largest group at the edge of the red in the graphic above. The majority of survivors were single, adult women departing from Southampton, who bought a middle class fare in the second quartile of values (somewhere between 7.91 and 14.45 pounds or dollars)\n",
    "\n",
    "The majority of the dead, I got with the same process, except searching the blue. With little competition, the majority of the dead were single adult men departing from Southampton, who bought a lower class fare in the cheapest quartile of values (somewhere between 0 and 7.91)"
   ],
   "id": "f5b126638d7d5e76"
  }
 ],
 "metadata": {
  "kernelspec": {
   "display_name": "Python 3 (ipykernel)",
   "language": "python",
   "name": "python3"
  },
  "language_info": {
   "codemirror_mode": {
    "name": "ipython",
    "version": 3
   },
   "file_extension": ".py",
   "mimetype": "text/x-python",
   "name": "python",
   "nbconvert_exporter": "python",
   "pygments_lexer": "ipython3",
   "version": "3.11.4"
  }
 },
 "nbformat": 4,
 "nbformat_minor": 5
}
